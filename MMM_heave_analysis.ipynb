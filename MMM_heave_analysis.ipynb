{
 "cells": [
  {
   "cell_type": "code",
   "execution_count": 9,
   "metadata": {
    "collapsed": true
   },
   "outputs": [],
   "source": [
    "import math\n",
    "import numpy as np\n",
    "import pandas as pd\n",
    "import matplotlib.pyplot as plt\n",
    "from conversions import Conversions\n",
    "\n",
    "%matplotlib qt5"
   ]
  },
  {
   "cell_type": "code",
   "execution_count": 29,
   "metadata": {
    "collapsed": false,
    "pycharm": {
     "name": "#%%\n"
    }
   },
   "outputs": [
    {
     "name": "stdout",
     "output_type": "stream",
     "text": [
      "2523\n"
     ]
    },
    {
     "data": {
      "text/plain": "<matplotlib.legend.Legend at 0x21aa0258b50>"
     },
     "execution_count": 29,
     "metadata": {},
     "output_type": "execute_result"
    }
   ],
   "source": [
    "df = pd.read_csv(\"MMM.csv\")\n",
    "\n",
    "fig, axs= plt.subplots(3) #plt.figure(figsize=(8, 6), dpi=100)\n",
    "\n",
    "# Filter for only straight line\n",
    "df_straightline = df[(df[\"body_slip\"] == 0) & (df[\"steered_angle\"] == 0) & (df[\"x_dot\"] > 5)]\n",
    "print(df_straightline.size)\n",
    "axs[0].plot(df_straightline[\"x_dot\"], Conversions.meter_to_inch(df_straightline[\"ride_height\"]),label=\"ride_height\")\n",
    "axs[0].scatter(df_straightline[\"x_dot\"], Conversions.meter_to_inch(df_straightline[\"front_left_tire_z_c\"]),label=\"FL z_c\")\n",
    "axs[0].scatter(df_straightline[\"x_dot\"], Conversions.meter_to_inch(df_straightline[\"front_right_tire_z_c\"]), label = \"FR z_c\")\n",
    "# axs[0].scatter(df_straightline[\"x_dot\"], Conversions.meter_to_inch(df_straightline[\"rear_left_tire_z_c\"]), label = \"RR z_c\")\n",
    "# axs[0].scatter(df_straightline[\"x_dot\"], Conversions.meter_to_inch(df_straightline[\"rear_right_tire_z_c\"]), label = \"RL z_c\")\n",
    "axs[0].legend()\n",
    "axs[0].set_xlabel(\"Velocity [m/s]\")\n",
    "axs[0].set_ylabel(\"Displacement [in]\")\n",
    "\n",
    "axs[1].scatter(df_straightline[\"x_dot\"], Conversions.meter_to_inch(df_straightline[\"front_left_tire_unsprung_displacement\"]),label=\"z_u FL\")\n",
    "axs[1].scatter(df_straightline[\"x_dot\"], Conversions.meter_to_inch(df_straightline[\"front_right_tire_unsprung_displacement\"]),label=\"z_u FR\")\n",
    "axs[1].scatter(df_straightline[\"x_dot\"], Conversions.meter_to_inch(df_straightline[\"rear_left_tire_unsprung_displacement\"]),label=\"z_u RL\")\n",
    "axs[1].scatter(df_straightline[\"x_dot\"], Conversions.meter_to_inch(df_straightline[\"rear_right_tire_unsprung_displacement\"]),label=\"z_u RR\")\n",
    "axs[1].legend()\n",
    "\n",
    "axs[2].scatter(df_straightline[\"x_dot\"], df_straightline[\"pitch\"], label = \"pitch\")\n",
    "axs[2].legend()"
   ]
  },
  {
   "cell_type": "code",
   "execution_count": 10,
   "outputs": [],
   "source": [],
   "metadata": {
    "collapsed": false,
    "pycharm": {
     "name": "#%%\n"
    }
   }
  },
  {
   "cell_type": "code",
   "execution_count": null,
   "outputs": [],
   "source": [],
   "metadata": {
    "collapsed": false,
    "pycharm": {
     "name": "#%%\n"
    }
   }
  }
 ],
 "metadata": {
  "interpreter": {
   "hash": "1c7372b68b18fb8a72b58483b4629b4128484b5e1196553fcb420dfc259b3afc"
  },
  "kernelspec": {
   "name": "pycharm-8e47cde8",
   "language": "python",
   "display_name": "PyCharm (magic_moment_method)"
  },
  "language_info": {
   "codemirror_mode": {
    "name": "ipython",
    "version": 3
   },
   "file_extension": ".py",
   "mimetype": "text/x-python",
   "name": "python",
   "nbconvert_exporter": "python",
   "pygments_lexer": "ipython3",
   "version": "3.8.3"
  }
 },
 "nbformat": 4,
 "nbformat_minor": 0
}