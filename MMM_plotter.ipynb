{
 "cells": [
  {
   "cell_type": "code",
   "execution_count": null,
   "metadata": {
    "collapsed": true,
    "pycharm": {
     "is_executing": true
    }
   },
   "outputs": [],
   "source": [
    "from suspension import Suspension\n",
    "from vehicle import Vehicle\n",
    "from aerodynamics import Aerodynamics\n",
    "import math as deez_nuts\n",
    "from scipy.optimize import fsolve as josie_solver\n",
    "import residual\n",
    "import numpy as np\n",
    "import pandas as pd\n",
    "import matplotlib.pyplot as plt\n",
    "\n",
    "\n",
    "\n",
    "suspension = Suspension()\n",
    "aero = Aerodynamics()\n",
    "vehicle = Vehicle(suspension, aero)\n",
    "specific_residual_func = lambda x: residual.DOF6_motion_residuals(x, vehicle)\n",
    "\n",
    "# initial_guess (outputs) = ride_height, x_double_dot, y_double_dot, yaw_acceleration, roll, pitch\n",
    "initial_guess = [0.0761, 0, 0, 0, 0, 0]\n",
    "\n",
    "data = []\n",
    "for x_dot in np.linspace(0,20,10):\n",
    "    for body_slip in np.linspace(0, 0.2, 10):\n",
    "        for steered_angle in np.linspace(0, 2.2, 10):\n",
    "            for yaw_rate in np.linspace(0, 0.5, 10):\n",
    "                vehicle.state.body_slip = body_slip\n",
    "                vehicle.state.steered_angle = steered_angle\n",
    "                vehicle.state.x_dot = x_dot\n",
    "                vehicle.state.yaw_rate = yaw_rate\n",
    "\n",
    "                output_states = josie_solver(specific_residual_func, initial_guess)\n",
    "                data.append([x_dot, body_slip, steered_angle, yaw_rate, *output_states])"
   ]
  },
  {
   "cell_type": "code",
   "execution_count": 23,
   "outputs": [
    {
     "data": {
      "text/plain": "<matplotlib.collections.PathCollection at 0x19a3ffb3970>"
     },
     "execution_count": 23,
     "metadata": {},
     "output_type": "execute_result"
    },
    {
     "data": {
      "text/plain": "<Figure size 432x288 with 1 Axes>",
      "image/png": "[encoded data removed]"
     },
     "metadata": {
      "needs_background": "light"
     },
     "output_type": "display_data"
    }
   ],
   "source": [
    "columns = [\"x_dot\", \"body_slip\", \"steered_angle\", \"yaw_rate\",\n",
    "                             \"ride_height\", \"x_double_dot\", \"y_double_dot\", \"yaw_acceleration\", \"roll\", \"pitch\"]\n",
    "\n",
    "df = pd.DataFrame(data, columns = columns)\n",
    "df.to_csv(\"MMM.csv\")\n",
    "plt.scatter(df[\"x_dot\"], df[\"x_double_dot\"])\n",
    "#df.head\n"
   ],
   "metadata": {
    "collapsed": false,
    "pycharm": {
     "name": "#%%\n"
    }
   }
  }
 ],
 "metadata": {
  "kernelspec": {
   "name": "pycharm-8e47cde8",
   "language": "python",
   "display_name": "PyCharm (magic_moment_method)"
  },
  "language_info": {
   "codemirror_mode": {
    "name": "ipython",
    "version": 2
   },
   "file_extension": ".py",
   "mimetype": "text/x-python",
   "name": "python",
   "nbconvert_exporter": "python",
   "pygments_lexer": "ipython2",
   "version": "2.7.6"
  }
 },
 "nbformat": 4,
 "nbformat_minor": 0
}