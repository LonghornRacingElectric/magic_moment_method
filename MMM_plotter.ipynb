{
 "cells": [
  {
   "cell_type": "code",
   "execution_count": 95,
   "metadata": {
    "collapsed": true
   },
   "outputs": [],
   "source": [
    "from vehicle import Vehicle\n",
    "from scipy.optimize import fsolve as josie_solver\n",
    "import numpy as np\n",
    "import pandas as pd\n",
    "import matplotlib.pyplot as plt\n",
    "import pickle"
   ]
  },
  {
   "cell_type": "code",
   "execution_count": 96,
   "metadata": {
    "collapsed": false,
    "pycharm": {
     "name": "#%%\n"
    }
   },
   "outputs": [
    {
     "name": "stderr",
     "output_type": "stream",
     "text": [
      "C:\\Users\\Kieran\\AppData\\Local\\Programs\\Python\\Python37\\lib\\site-packages\\matplotlib\\cbook\\__init__.py:1402: FutureWarning: Support for multi-dimensional indexing (e.g. `obj[:, None]`) is deprecated and will be removed in a future version.  Convert to a numpy array before indexing instead.\n",
      "  x[:, None]\n",
      "C:\\Users\\Kieran\\AppData\\Local\\Programs\\Python\\Python37\\lib\\site-packages\\matplotlib\\axes\\_base.py:276: FutureWarning: Support for multi-dimensional indexing (e.g. `obj[:, None]`) is deprecated and will be removed in a future version.  Convert to a numpy array before indexing instead.\n",
      "  x = x[:, np.newaxis]\n",
      "C:\\Users\\Kieran\\AppData\\Local\\Programs\\Python\\Python37\\lib\\site-packages\\matplotlib\\axes\\_base.py:278: FutureWarning: Support for multi-dimensional indexing (e.g. `obj[:, None]`) is deprecated and will be removed in a future version.  Convert to a numpy array before indexing instead.\n",
      "  y = y[:, np.newaxis]\n",
      "C:\\Users\\Kieran\\AppData\\Local\\Programs\\Python\\Python37\\lib\\site-packages\\matplotlib\\cbook\\__init__.py:1402: FutureWarning: Support for multi-dimensional indexing (e.g. `obj[:, None]`) is deprecated and will be removed in a future version.  Convert to a numpy array before indexing instead.\n",
      "  x[:, None]\n",
      "C:\\Users\\Kieran\\AppData\\Local\\Programs\\Python\\Python37\\lib\\site-packages\\matplotlib\\axes\\_base.py:276: FutureWarning: Support for multi-dimensional indexing (e.g. `obj[:, None]`) is deprecated and will be removed in a future version.  Convert to a numpy array before indexing instead.\n",
      "  x = x[:, np.newaxis]\n",
      "C:\\Users\\Kieran\\AppData\\Local\\Programs\\Python\\Python37\\lib\\site-packages\\matplotlib\\axes\\_base.py:278: FutureWarning: Support for multi-dimensional indexing (e.g. `obj[:, None]`) is deprecated and will be removed in a future version.  Convert to a numpy array before indexing instead.\n",
      "  y = y[:, np.newaxis]\n",
      "C:\\Users\\Kieran\\AppData\\Local\\Programs\\Python\\Python37\\lib\\site-packages\\matplotlib\\cbook\\__init__.py:1402: FutureWarning: Support for multi-dimensional indexing (e.g. `obj[:, None]`) is deprecated and will be removed in a future version.  Convert to a numpy array before indexing instead.\n",
      "  x[:, None]\n",
      "C:\\Users\\Kieran\\AppData\\Local\\Programs\\Python\\Python37\\lib\\site-packages\\matplotlib\\axes\\_base.py:276: FutureWarning: Support for multi-dimensional indexing (e.g. `obj[:, None]`) is deprecated and will be removed in a future version.  Convert to a numpy array before indexing instead.\n",
      "  x = x[:, np.newaxis]\n",
      "C:\\Users\\Kieran\\AppData\\Local\\Programs\\Python\\Python37\\lib\\site-packages\\matplotlib\\axes\\_base.py:278: FutureWarning: Support for multi-dimensional indexing (e.g. `obj[:, None]`) is deprecated and will be removed in a future version.  Convert to a numpy array before indexing instead.\n",
      "  y = y[:, np.newaxis]\n",
      "C:\\Users\\Kieran\\AppData\\Local\\Programs\\Python\\Python37\\lib\\site-packages\\matplotlib\\cbook\\__init__.py:1402: FutureWarning: Support for multi-dimensional indexing (e.g. `obj[:, None]`) is deprecated and will be removed in a future version.  Convert to a numpy array before indexing instead.\n",
      "  x[:, None]\n",
      "C:\\Users\\Kieran\\AppData\\Local\\Programs\\Python\\Python37\\lib\\site-packages\\matplotlib\\axes\\_base.py:276: FutureWarning: Support for multi-dimensional indexing (e.g. `obj[:, None]`) is deprecated and will be removed in a future version.  Convert to a numpy array before indexing instead.\n",
      "  x = x[:, np.newaxis]\n",
      "C:\\Users\\Kieran\\AppData\\Local\\Programs\\Python\\Python37\\lib\\site-packages\\matplotlib\\axes\\_base.py:278: FutureWarning: Support for multi-dimensional indexing (e.g. `obj[:, None]`) is deprecated and will be removed in a future version.  Convert to a numpy array before indexing instead.\n",
      "  y = y[:, np.newaxis]\n",
      "C:\\Users\\Kieran\\AppData\\Local\\Programs\\Python\\Python37\\lib\\site-packages\\matplotlib\\cbook\\__init__.py:1402: FutureWarning: Support for multi-dimensional indexing (e.g. `obj[:, None]`) is deprecated and will be removed in a future version.  Convert to a numpy array before indexing instead.\n",
      "  x[:, None]\n",
      "C:\\Users\\Kieran\\AppData\\Local\\Programs\\Python\\Python37\\lib\\site-packages\\matplotlib\\axes\\_base.py:276: FutureWarning: Support for multi-dimensional indexing (e.g. `obj[:, None]`) is deprecated and will be removed in a future version.  Convert to a numpy array before indexing instead.\n",
      "  x = x[:, np.newaxis]\n",
      "C:\\Users\\Kieran\\AppData\\Local\\Programs\\Python\\Python37\\lib\\site-packages\\matplotlib\\axes\\_base.py:278: FutureWarning: Support for multi-dimensional indexing (e.g. `obj[:, None]`) is deprecated and will be removed in a future version.  Convert to a numpy array before indexing instead.\n",
      "  y = y[:, np.newaxis]\n",
      "C:\\Users\\Kieran\\AppData\\Local\\Programs\\Python\\Python37\\lib\\site-packages\\matplotlib\\cbook\\__init__.py:1402: FutureWarning: Support for multi-dimensional indexing (e.g. `obj[:, None]`) is deprecated and will be removed in a future version.  Convert to a numpy array before indexing instead.\n",
      "  x[:, None]\n",
      "C:\\Users\\Kieran\\AppData\\Local\\Programs\\Python\\Python37\\lib\\site-packages\\matplotlib\\axes\\_base.py:276: FutureWarning: Support for multi-dimensional indexing (e.g. `obj[:, None]`) is deprecated and will be removed in a future version.  Convert to a numpy array before indexing instead.\n",
      "  x = x[:, np.newaxis]\n",
      "C:\\Users\\Kieran\\AppData\\Local\\Programs\\Python\\Python37\\lib\\site-packages\\matplotlib\\axes\\_base.py:278: FutureWarning: Support for multi-dimensional indexing (e.g. `obj[:, None]`) is deprecated and will be removed in a future version.  Convert to a numpy array before indexing instead.\n",
      "  y = y[:, np.newaxis]\n",
      "C:\\Users\\Kieran\\AppData\\Local\\Programs\\Python\\Python37\\lib\\site-packages\\matplotlib\\cbook\\__init__.py:1402: FutureWarning: Support for multi-dimensional indexing (e.g. `obj[:, None]`) is deprecated and will be removed in a future version.  Convert to a numpy array before indexing instead.\n",
      "  x[:, None]\n",
      "C:\\Users\\Kieran\\AppData\\Local\\Programs\\Python\\Python37\\lib\\site-packages\\matplotlib\\axes\\_base.py:276: FutureWarning: Support for multi-dimensional indexing (e.g. `obj[:, None]`) is deprecated and will be removed in a future version.  Convert to a numpy array before indexing instead.\n",
      "  x = x[:, np.newaxis]\n",
      "C:\\Users\\Kieran\\AppData\\Local\\Programs\\Python\\Python37\\lib\\site-packages\\matplotlib\\axes\\_base.py:278: FutureWarning: Support for multi-dimensional indexing (e.g. `obj[:, None]`) is deprecated and will be removed in a future version.  Convert to a numpy array before indexing instead.\n",
      "  y = y[:, np.newaxis]\n",
      "C:\\Users\\Kieran\\AppData\\Local\\Programs\\Python\\Python37\\lib\\site-packages\\matplotlib\\cbook\\__init__.py:1402: FutureWarning: Support for multi-dimensional indexing (e.g. `obj[:, None]`) is deprecated and will be removed in a future version.  Convert to a numpy array before indexing instead.\n",
      "  x[:, None]\n",
      "C:\\Users\\Kieran\\AppData\\Local\\Programs\\Python\\Python37\\lib\\site-packages\\matplotlib\\axes\\_base.py:276: FutureWarning: Support for multi-dimensional indexing (e.g. `obj[:, None]`) is deprecated and will be removed in a future version.  Convert to a numpy array before indexing instead.\n",
      "  x = x[:, np.newaxis]\n",
      "C:\\Users\\Kieran\\AppData\\Local\\Programs\\Python\\Python37\\lib\\site-packages\\matplotlib\\axes\\_base.py:278: FutureWarning: Support for multi-dimensional indexing (e.g. `obj[:, None]`) is deprecated and will be removed in a future version.  Convert to a numpy array before indexing instead.\n",
      "  y = y[:, np.newaxis]\n",
      "C:\\Users\\Kieran\\AppData\\Local\\Programs\\Python\\Python37\\lib\\site-packages\\matplotlib\\cbook\\__init__.py:1402: FutureWarning: Support for multi-dimensional indexing (e.g. `obj[:, None]`) is deprecated and will be removed in a future version.  Convert to a numpy array before indexing instead.\n",
      "  x[:, None]\n",
      "C:\\Users\\Kieran\\AppData\\Local\\Programs\\Python\\Python37\\lib\\site-packages\\matplotlib\\axes\\_base.py:276: FutureWarning: Support for multi-dimensional indexing (e.g. `obj[:, None]`) is deprecated and will be removed in a future version.  Convert to a numpy array before indexing instead.\n",
      "  x = x[:, np.newaxis]\n",
      "C:\\Users\\Kieran\\AppData\\Local\\Programs\\Python\\Python37\\lib\\site-packages\\matplotlib\\axes\\_base.py:278: FutureWarning: Support for multi-dimensional indexing (e.g. `obj[:, None]`) is deprecated and will be removed in a future version.  Convert to a numpy array before indexing instead.\n",
      "  y = y[:, np.newaxis]\n",
      "C:\\Users\\Kieran\\AppData\\Local\\Programs\\Python\\Python37\\lib\\site-packages\\matplotlib\\cbook\\__init__.py:1402: FutureWarning: Support for multi-dimensional indexing (e.g. `obj[:, None]`) is deprecated and will be removed in a future version.  Convert to a numpy array before indexing instead.\n",
      "  x[:, None]\n",
      "C:\\Users\\Kieran\\AppData\\Local\\Programs\\Python\\Python37\\lib\\site-packages\\matplotlib\\axes\\_base.py:276: FutureWarning: Support for multi-dimensional indexing (e.g. `obj[:, None]`) is deprecated and will be removed in a future version.  Convert to a numpy array before indexing instead.\n",
      "  x = x[:, np.newaxis]\n",
      "C:\\Users\\Kieran\\AppData\\Local\\Programs\\Python\\Python37\\lib\\site-packages\\matplotlib\\axes\\_base.py:278: FutureWarning: Support for multi-dimensional indexing (e.g. `obj[:, None]`) is deprecated and will be removed in a future version.  Convert to a numpy array before indexing instead.\n",
      "  y = y[:, np.newaxis]\n",
      "C:\\Users\\Kieran\\AppData\\Local\\Programs\\Python\\Python37\\lib\\site-packages\\matplotlib\\cbook\\__init__.py:1402: FutureWarning: Support for multi-dimensional indexing (e.g. `obj[:, None]`) is deprecated and will be removed in a future version.  Convert to a numpy array before indexing instead.\n",
      "  x[:, None]\n",
      "C:\\Users\\Kieran\\AppData\\Local\\Programs\\Python\\Python37\\lib\\site-packages\\matplotlib\\axes\\_base.py:276: FutureWarning: Support for multi-dimensional indexing (e.g. `obj[:, None]`) is deprecated and will be removed in a future version.  Convert to a numpy array before indexing instead.\n",
      "  x = x[:, np.newaxis]\n",
      "C:\\Users\\Kieran\\AppData\\Local\\Programs\\Python\\Python37\\lib\\site-packages\\matplotlib\\axes\\_base.py:278: FutureWarning: Support for multi-dimensional indexing (e.g. `obj[:, None]`) is deprecated and will be removed in a future version.  Convert to a numpy array before indexing instead.\n",
      "  y = y[:, np.newaxis]\n",
      "C:\\Users\\Kieran\\AppData\\Local\\Programs\\Python\\Python37\\lib\\site-packages\\matplotlib\\cbook\\__init__.py:1402: FutureWarning: Support for multi-dimensional indexing (e.g. `obj[:, None]`) is deprecated and will be removed in a future version.  Convert to a numpy array before indexing instead.\n",
      "  x[:, None]\n",
      "C:\\Users\\Kieran\\AppData\\Local\\Programs\\Python\\Python37\\lib\\site-packages\\matplotlib\\axes\\_base.py:276: FutureWarning: Support for multi-dimensional indexing (e.g. `obj[:, None]`) is deprecated and will be removed in a future version.  Convert to a numpy array before indexing instead.\n",
      "  x = x[:, np.newaxis]\n",
      "C:\\Users\\Kieran\\AppData\\Local\\Programs\\Python\\Python37\\lib\\site-packages\\matplotlib\\axes\\_base.py:278: FutureWarning: Support for multi-dimensional indexing (e.g. `obj[:, None]`) is deprecated and will be removed in a future version.  Convert to a numpy array before indexing instead.\n",
      "  y = y[:, np.newaxis]\n",
      "C:\\Users\\Kieran\\AppData\\Local\\Programs\\Python\\Python37\\lib\\site-packages\\matplotlib\\cbook\\__init__.py:1402: FutureWarning: Support for multi-dimensional indexing (e.g. `obj[:, None]`) is deprecated and will be removed in a future version.  Convert to a numpy array before indexing instead.\n",
      "  x[:, None]\n",
      "C:\\Users\\Kieran\\AppData\\Local\\Programs\\Python\\Python37\\lib\\site-packages\\matplotlib\\axes\\_base.py:276: FutureWarning: Support for multi-dimensional indexing (e.g. `obj[:, None]`) is deprecated and will be removed in a future version.  Convert to a numpy array before indexing instead.\n",
      "  x = x[:, np.newaxis]\n",
      "C:\\Users\\Kieran\\AppData\\Local\\Programs\\Python\\Python37\\lib\\site-packages\\matplotlib\\axes\\_base.py:278: FutureWarning: Support for multi-dimensional indexing (e.g. `obj[:, None]`) is deprecated and will be removed in a future version.  Convert to a numpy array before indexing instead.\n",
      "  y = y[:, np.newaxis]\n",
      "C:\\Users\\Kieran\\AppData\\Local\\Programs\\Python\\Python37\\lib\\site-packages\\matplotlib\\cbook\\__init__.py:1402: FutureWarning: Support for multi-dimensional indexing (e.g. `obj[:, None]`) is deprecated and will be removed in a future version.  Convert to a numpy array before indexing instead.\n",
      "  x[:, None]\n",
      "C:\\Users\\Kieran\\AppData\\Local\\Programs\\Python\\Python37\\lib\\site-packages\\matplotlib\\axes\\_base.py:276: FutureWarning: Support for multi-dimensional indexing (e.g. `obj[:, None]`) is deprecated and will be removed in a future version.  Convert to a numpy array before indexing instead.\n",
      "  x = x[:, np.newaxis]\n",
      "C:\\Users\\Kieran\\AppData\\Local\\Programs\\Python\\Python37\\lib\\site-packages\\matplotlib\\axes\\_base.py:278: FutureWarning: Support for multi-dimensional indexing (e.g. `obj[:, None]`) is deprecated and will be removed in a future version.  Convert to a numpy array before indexing instead.\n",
      "  y = y[:, np.newaxis]\n",
      "C:\\Users\\Kieran\\AppData\\Local\\Programs\\Python\\Python37\\lib\\site-packages\\matplotlib\\cbook\\__init__.py:1402: FutureWarning: Support for multi-dimensional indexing (e.g. `obj[:, None]`) is deprecated and will be removed in a future version.  Convert to a numpy array before indexing instead.\n",
      "  x[:, None]\n",
      "C:\\Users\\Kieran\\AppData\\Local\\Programs\\Python\\Python37\\lib\\site-packages\\matplotlib\\axes\\_base.py:276: FutureWarning: Support for multi-dimensional indexing (e.g. `obj[:, None]`) is deprecated and will be removed in a future version.  Convert to a numpy array before indexing instead.\n",
      "  x = x[:, np.newaxis]\n",
      "C:\\Users\\Kieran\\AppData\\Local\\Programs\\Python\\Python37\\lib\\site-packages\\matplotlib\\axes\\_base.py:278: FutureWarning: Support for multi-dimensional indexing (e.g. `obj[:, None]`) is deprecated and will be removed in a future version.  Convert to a numpy array before indexing instead.\n",
      "  y = y[:, np.newaxis]\n",
      "C:\\Users\\Kieran\\AppData\\Local\\Programs\\Python\\Python37\\lib\\site-packages\\matplotlib\\cbook\\__init__.py:1402: FutureWarning: Support for multi-dimensional indexing (e.g. `obj[:, None]`) is deprecated and will be removed in a future version.  Convert to a numpy array before indexing instead.\n",
      "  x[:, None]\n",
      "C:\\Users\\Kieran\\AppData\\Local\\Programs\\Python\\Python37\\lib\\site-packages\\matplotlib\\axes\\_base.py:276: FutureWarning: Support for multi-dimensional indexing (e.g. `obj[:, None]`) is deprecated and will be removed in a future version.  Convert to a numpy array before indexing instead.\n",
      "  x = x[:, np.newaxis]\n",
      "C:\\Users\\Kieran\\AppData\\Local\\Programs\\Python\\Python37\\lib\\site-packages\\matplotlib\\axes\\_base.py:278: FutureWarning: Support for multi-dimensional indexing (e.g. `obj[:, None]`) is deprecated and will be removed in a future version.  Convert to a numpy array before indexing instead.\n",
      "  y = y[:, np.newaxis]\n",
      "C:\\Users\\Kieran\\AppData\\Local\\Programs\\Python\\Python37\\lib\\site-packages\\matplotlib\\cbook\\__init__.py:1402: FutureWarning: Support for multi-dimensional indexing (e.g. `obj[:, None]`) is deprecated and will be removed in a future version.  Convert to a numpy array before indexing instead.\n",
      "  x[:, None]\n",
      "C:\\Users\\Kieran\\AppData\\Local\\Programs\\Python\\Python37\\lib\\site-packages\\matplotlib\\axes\\_base.py:276: FutureWarning: Support for multi-dimensional indexing (e.g. `obj[:, None]`) is deprecated and will be removed in a future version.  Convert to a numpy array before indexing instead.\n",
      "  x = x[:, np.newaxis]\n",
      "C:\\Users\\Kieran\\AppData\\Local\\Programs\\Python\\Python37\\lib\\site-packages\\matplotlib\\axes\\_base.py:278: FutureWarning: Support for multi-dimensional indexing (e.g. `obj[:, None]`) is deprecated and will be removed in a future version.  Convert to a numpy array before indexing instead.\n",
      "  y = y[:, np.newaxis]\n",
      "C:\\Users\\Kieran\\AppData\\Local\\Programs\\Python\\Python37\\lib\\site-packages\\matplotlib\\cbook\\__init__.py:1402: FutureWarning: Support for multi-dimensional indexing (e.g. `obj[:, None]`) is deprecated and will be removed in a future version.  Convert to a numpy array before indexing instead.\n",
      "  x[:, None]\n",
      "C:\\Users\\Kieran\\AppData\\Local\\Programs\\Python\\Python37\\lib\\site-packages\\matplotlib\\axes\\_base.py:276: FutureWarning: Support for multi-dimensional indexing (e.g. `obj[:, None]`) is deprecated and will be removed in a future version.  Convert to a numpy array before indexing instead.\n",
      "  x = x[:, np.newaxis]\n",
      "C:\\Users\\Kieran\\AppData\\Local\\Programs\\Python\\Python37\\lib\\site-packages\\matplotlib\\axes\\_base.py:278: FutureWarning: Support for multi-dimensional indexing (e.g. `obj[:, None]`) is deprecated and will be removed in a future version.  Convert to a numpy array before indexing instead.\n",
      "  y = y[:, np.newaxis]\n",
      "C:\\Users\\Kieran\\AppData\\Local\\Programs\\Python\\Python37\\lib\\site-packages\\matplotlib\\cbook\\__init__.py:1402: FutureWarning: Support for multi-dimensional indexing (e.g. `obj[:, None]`) is deprecated and will be removed in a future version.  Convert to a numpy array before indexing instead.\n",
      "  x[:, None]\n",
      "C:\\Users\\Kieran\\AppData\\Local\\Programs\\Python\\Python37\\lib\\site-packages\\matplotlib\\axes\\_base.py:276: FutureWarning: Support for multi-dimensional indexing (e.g. `obj[:, None]`) is deprecated and will be removed in a future version.  Convert to a numpy array before indexing instead.\n",
      "  x = x[:, np.newaxis]\n",
      "C:\\Users\\Kieran\\AppData\\Local\\Programs\\Python\\Python37\\lib\\site-packages\\matplotlib\\axes\\_base.py:278: FutureWarning: Support for multi-dimensional indexing (e.g. `obj[:, None]`) is deprecated and will be removed in a future version.  Convert to a numpy array before indexing instead.\n",
      "  y = y[:, np.newaxis]\n",
      "C:\\Users\\Kieran\\AppData\\Local\\Programs\\Python\\Python37\\lib\\site-packages\\matplotlib\\cbook\\__init__.py:1402: FutureWarning: Support for multi-dimensional indexing (e.g. `obj[:, None]`) is deprecated and will be removed in a future version.  Convert to a numpy array before indexing instead.\n",
      "  x[:, None]\n",
      "C:\\Users\\Kieran\\AppData\\Local\\Programs\\Python\\Python37\\lib\\site-packages\\matplotlib\\axes\\_base.py:276: FutureWarning: Support for multi-dimensional indexing (e.g. `obj[:, None]`) is deprecated and will be removed in a future version.  Convert to a numpy array before indexing instead.\n",
      "  x = x[:, np.newaxis]\n",
      "C:\\Users\\Kieran\\AppData\\Local\\Programs\\Python\\Python37\\lib\\site-packages\\matplotlib\\axes\\_base.py:278: FutureWarning: Support for multi-dimensional indexing (e.g. `obj[:, None]`) is deprecated and will be removed in a future version.  Convert to a numpy array before indexing instead.\n",
      "  y = y[:, np.newaxis]\n",
      "C:\\Users\\Kieran\\AppData\\Local\\Programs\\Python\\Python37\\lib\\site-packages\\matplotlib\\cbook\\__init__.py:1402: FutureWarning: Support for multi-dimensional indexing (e.g. `obj[:, None]`) is deprecated and will be removed in a future version.  Convert to a numpy array before indexing instead.\n",
      "  x[:, None]\n",
      "C:\\Users\\Kieran\\AppData\\Local\\Programs\\Python\\Python37\\lib\\site-packages\\matplotlib\\axes\\_base.py:276: FutureWarning: Support for multi-dimensional indexing (e.g. `obj[:, None]`) is deprecated and will be removed in a future version.  Convert to a numpy array before indexing instead.\n",
      "  x = x[:, np.newaxis]\n",
      "C:\\Users\\Kieran\\AppData\\Local\\Programs\\Python\\Python37\\lib\\site-packages\\matplotlib\\axes\\_base.py:278: FutureWarning: Support for multi-dimensional indexing (e.g. `obj[:, None]`) is deprecated and will be removed in a future version.  Convert to a numpy array before indexing instead.\n",
      "  y = y[:, np.newaxis]\n",
      "C:\\Users\\Kieran\\AppData\\Local\\Programs\\Python\\Python37\\lib\\site-packages\\matplotlib\\cbook\\__init__.py:1402: FutureWarning: Support for multi-dimensional indexing (e.g. `obj[:, None]`) is deprecated and will be removed in a future version.  Convert to a numpy array before indexing instead.\n",
      "  x[:, None]\n",
      "C:\\Users\\Kieran\\AppData\\Local\\Programs\\Python\\Python37\\lib\\site-packages\\matplotlib\\axes\\_base.py:276: FutureWarning: Support for multi-dimensional indexing (e.g. `obj[:, None]`) is deprecated and will be removed in a future version.  Convert to a numpy array before indexing instead.\n",
      "  x = x[:, np.newaxis]\n",
      "C:\\Users\\Kieran\\AppData\\Local\\Programs\\Python\\Python37\\lib\\site-packages\\matplotlib\\axes\\_base.py:278: FutureWarning: Support for multi-dimensional indexing (e.g. `obj[:, None]`) is deprecated and will be removed in a future version.  Convert to a numpy array before indexing instead.\n",
      "  y = y[:, np.newaxis]\n",
      "C:\\Users\\Kieran\\AppData\\Local\\Programs\\Python\\Python37\\lib\\site-packages\\matplotlib\\cbook\\__init__.py:1402: FutureWarning: Support for multi-dimensional indexing (e.g. `obj[:, None]`) is deprecated and will be removed in a future version.  Convert to a numpy array before indexing instead.\n",
      "  x[:, None]\n",
      "C:\\Users\\Kieran\\AppData\\Local\\Programs\\Python\\Python37\\lib\\site-packages\\matplotlib\\axes\\_base.py:276: FutureWarning: Support for multi-dimensional indexing (e.g. `obj[:, None]`) is deprecated and will be removed in a future version.  Convert to a numpy array before indexing instead.\n",
      "  x = x[:, np.newaxis]\n",
      "C:\\Users\\Kieran\\AppData\\Local\\Programs\\Python\\Python37\\lib\\site-packages\\matplotlib\\axes\\_base.py:278: FutureWarning: Support for multi-dimensional indexing (e.g. `obj[:, None]`) is deprecated and will be removed in a future version.  Convert to a numpy array before indexing instead.\n",
      "  y = y[:, np.newaxis]\n",
      "C:\\Users\\Kieran\\AppData\\Local\\Programs\\Python\\Python37\\lib\\site-packages\\matplotlib\\cbook\\__init__.py:1402: FutureWarning: Support for multi-dimensional indexing (e.g. `obj[:, None]`) is deprecated and will be removed in a future version.  Convert to a numpy array before indexing instead.\n",
      "  x[:, None]\n",
      "C:\\Users\\Kieran\\AppData\\Local\\Programs\\Python\\Python37\\lib\\site-packages\\matplotlib\\axes\\_base.py:276: FutureWarning: Support for multi-dimensional indexing (e.g. `obj[:, None]`) is deprecated and will be removed in a future version.  Convert to a numpy array before indexing instead.\n",
      "  x = x[:, np.newaxis]\n",
      "C:\\Users\\Kieran\\AppData\\Local\\Programs\\Python\\Python37\\lib\\site-packages\\matplotlib\\axes\\_base.py:278: FutureWarning: Support for multi-dimensional indexing (e.g. `obj[:, None]`) is deprecated and will be removed in a future version.  Convert to a numpy array before indexing instead.\n",
      "  y = y[:, np.newaxis]\n",
      "C:\\Users\\Kieran\\AppData\\Local\\Programs\\Python\\Python37\\lib\\site-packages\\matplotlib\\cbook\\__init__.py:1402: FutureWarning: Support for multi-dimensional indexing (e.g. `obj[:, None]`) is deprecated and will be removed in a future version.  Convert to a numpy array before indexing instead.\n",
      "  x[:, None]\n",
      "C:\\Users\\Kieran\\AppData\\Local\\Programs\\Python\\Python37\\lib\\site-packages\\matplotlib\\axes\\_base.py:276: FutureWarning: Support for multi-dimensional indexing (e.g. `obj[:, None]`) is deprecated and will be removed in a future version.  Convert to a numpy array before indexing instead.\n",
      "  x = x[:, np.newaxis]\n",
      "C:\\Users\\Kieran\\AppData\\Local\\Programs\\Python\\Python37\\lib\\site-packages\\matplotlib\\axes\\_base.py:278: FutureWarning: Support for multi-dimensional indexing (e.g. `obj[:, None]`) is deprecated and will be removed in a future version.  Convert to a numpy array before indexing instead.\n",
      "  y = y[:, np.newaxis]\n",
      "C:\\Users\\Kieran\\AppData\\Local\\Programs\\Python\\Python37\\lib\\site-packages\\matplotlib\\cbook\\__init__.py:1402: FutureWarning: Support for multi-dimensional indexing (e.g. `obj[:, None]`) is deprecated and will be removed in a future version.  Convert to a numpy array before indexing instead.\n",
      "  x[:, None]\n",
      "C:\\Users\\Kieran\\AppData\\Local\\Programs\\Python\\Python37\\lib\\site-packages\\matplotlib\\axes\\_base.py:276: FutureWarning: Support for multi-dimensional indexing (e.g. `obj[:, None]`) is deprecated and will be removed in a future version.  Convert to a numpy array before indexing instead.\n",
      "  x = x[:, np.newaxis]\n",
      "C:\\Users\\Kieran\\AppData\\Local\\Programs\\Python\\Python37\\lib\\site-packages\\matplotlib\\axes\\_base.py:278: FutureWarning: Support for multi-dimensional indexing (e.g. `obj[:, None]`) is deprecated and will be removed in a future version.  Convert to a numpy array before indexing instead.\n",
      "  y = y[:, np.newaxis]\n",
      "C:\\Users\\Kieran\\AppData\\Local\\Programs\\Python\\Python37\\lib\\site-packages\\matplotlib\\cbook\\__init__.py:1402: FutureWarning: Support for multi-dimensional indexing (e.g. `obj[:, None]`) is deprecated and will be removed in a future version.  Convert to a numpy array before indexing instead.\n",
      "  x[:, None]\n",
      "C:\\Users\\Kieran\\AppData\\Local\\Programs\\Python\\Python37\\lib\\site-packages\\matplotlib\\axes\\_base.py:276: FutureWarning: Support for multi-dimensional indexing (e.g. `obj[:, None]`) is deprecated and will be removed in a future version.  Convert to a numpy array before indexing instead.\n",
      "  x = x[:, np.newaxis]\n",
      "C:\\Users\\Kieran\\AppData\\Local\\Programs\\Python\\Python37\\lib\\site-packages\\matplotlib\\axes\\_base.py:278: FutureWarning: Support for multi-dimensional indexing (e.g. `obj[:, None]`) is deprecated and will be removed in a future version.  Convert to a numpy array before indexing instead.\n",
      "  y = y[:, np.newaxis]\n",
      "C:\\Users\\Kieran\\AppData\\Local\\Programs\\Python\\Python37\\lib\\site-packages\\matplotlib\\cbook\\__init__.py:1402: FutureWarning: Support for multi-dimensional indexing (e.g. `obj[:, None]`) is deprecated and will be removed in a future version.  Convert to a numpy array before indexing instead.\n",
      "  x[:, None]\n",
      "C:\\Users\\Kieran\\AppData\\Local\\Programs\\Python\\Python37\\lib\\site-packages\\matplotlib\\axes\\_base.py:276: FutureWarning: Support for multi-dimensional indexing (e.g. `obj[:, None]`) is deprecated and will be removed in a future version.  Convert to a numpy array before indexing instead.\n",
      "  x = x[:, np.newaxis]\n",
      "C:\\Users\\Kieran\\AppData\\Local\\Programs\\Python\\Python37\\lib\\site-packages\\matplotlib\\axes\\_base.py:278: FutureWarning: Support for multi-dimensional indexing (e.g. `obj[:, None]`) is deprecated and will be removed in a future version.  Convert to a numpy array before indexing instead.\n",
      "  y = y[:, np.newaxis]\n",
      "C:\\Users\\Kieran\\AppData\\Local\\Programs\\Python\\Python37\\lib\\site-packages\\matplotlib\\cbook\\__init__.py:1402: FutureWarning: Support for multi-dimensional indexing (e.g. `obj[:, None]`) is deprecated and will be removed in a future version.  Convert to a numpy array before indexing instead.\n",
      "  x[:, None]\n",
      "C:\\Users\\Kieran\\AppData\\Local\\Programs\\Python\\Python37\\lib\\site-packages\\matplotlib\\axes\\_base.py:276: FutureWarning: Support for multi-dimensional indexing (e.g. `obj[:, None]`) is deprecated and will be removed in a future version.  Convert to a numpy array before indexing instead.\n",
      "  x = x[:, np.newaxis]\n",
      "C:\\Users\\Kieran\\AppData\\Local\\Programs\\Python\\Python37\\lib\\site-packages\\matplotlib\\axes\\_base.py:278: FutureWarning: Support for multi-dimensional indexing (e.g. `obj[:, None]`) is deprecated and will be removed in a future version.  Convert to a numpy array before indexing instead.\n",
      "  y = y[:, np.newaxis]\n",
      "C:\\Users\\Kieran\\AppData\\Local\\Programs\\Python\\Python37\\lib\\site-packages\\matplotlib\\cbook\\__init__.py:1402: FutureWarning: Support for multi-dimensional indexing (e.g. `obj[:, None]`) is deprecated and will be removed in a future version.  Convert to a numpy array before indexing instead.\n",
      "  x[:, None]\n",
      "C:\\Users\\Kieran\\AppData\\Local\\Programs\\Python\\Python37\\lib\\site-packages\\matplotlib\\axes\\_base.py:276: FutureWarning: Support for multi-dimensional indexing (e.g. `obj[:, None]`) is deprecated and will be removed in a future version.  Convert to a numpy array before indexing instead.\n",
      "  x = x[:, np.newaxis]\n",
      "C:\\Users\\Kieran\\AppData\\Local\\Programs\\Python\\Python37\\lib\\site-packages\\matplotlib\\axes\\_base.py:278: FutureWarning: Support for multi-dimensional indexing (e.g. `obj[:, None]`) is deprecated and will be removed in a future version.  Convert to a numpy array before indexing instead.\n",
      "  y = y[:, np.newaxis]\n"
     ]
    },
    {
     "data": {
      "text/plain": [
       "1.1385510224794143e-12"
      ]
     },
     "execution_count": 96,
     "metadata": {},
     "output_type": "execute_result"
    },
    {
     "data": {
      "image/png": "[encoded data removed]",
      "text/plain": [
       "<Figure size 432x288 with 1 Axes>"
      ]
     },
     "metadata": {
      "needs_background": "light"
     },
     "output_type": "display_data"
    }
   ],
   "source": [
    "df = pd.read_csv(\"MMM.csv\")\n",
    "\n",
    "for x in df[\"body_slip\"].unique():\n",
    "    df2 = df[df[\"body_slip\"] == x]\n",
    "    plt.plot(df2[\"y_double_dot\"]/9.81, df2[\"yaw_acceleration\"], 'r')\n",
    "    #plt.text(list(df2[\"y_double_dot\"])[-1]/9.81, list(df2[\"yaw_acceleration\"])[-1], f'sample {x}')\n",
    "\n",
    "for x in df[\"steered_angle\"].unique():\n",
    "    df2 = df[(df[\"steered_angle\"] == x)]\n",
    "    plt.plot(df2[\"y_double_dot\"]/9.81, df2[\"yaw_acceleration\"], 'b')\n",
    "plt.grid()\n",
    "plt.ylabel(\"Yaw Acceleration (rad/s^2)\")\n",
    "plt.xlabel(\"Lateral Acceleration (g)\")\n",
    "\n",
    "abs(df[\"yaw_acceleration\"]).min()"
   ]
  },
  {
   "cell_type": "code",
   "execution_count": 97,
   "metadata": {},
   "outputs": [
    {
     "data": {
      "text/plain": [
       "<matplotlib.legend.Legend at 0x163eb31b448>"
      ]
     },
     "execution_count": 97,
     "metadata": {},
     "output_type": "execute_result"
    },
    {
     "data": {
      "image/png": "[encoded data removed]",
      "text/plain": [
       "<Figure size 432x288 with 1 Axes>"
      ]
     },
     "metadata": {
      "needs_background": "light"
     },
     "output_type": "display_data"
    }
   ],
   "source": [
    "import math\n",
    "plt.scatter(df[\"y_double_dot\"], df[\"front_left_tire_centric_forces_2\"], label = \"Front Right\")\n",
    "plt.scatter(df[\"y_double_dot\"], df[\"front_right_tire_centric_forces_2\"], label = \"Front Left\")\n",
    "plt.scatter(df[\"y_double_dot\"], df[\"rear_left_tire_centric_forces_2\"], label = \"Rear Right\")\n",
    "plt.scatter(df[\"y_double_dot\"], df[\"rear_right_tire_centric_forces_2\"], label = \"Rear Left\")\n",
    "plt.title(\"Normal Force vs Lateral Accel\")\n",
    "plt.grid()\n",
    "plt.ylabel(\"Normal Force (N)\")\n",
    "plt.xlabel(\"Lateral Acceleration (m/s^2)\")\n",
    "plt.legend()"
   ]
  },
  {
   "cell_type": "code",
   "execution_count": 98,
   "metadata": {},
   "outputs": [
    {
     "name": "stdout",
     "output_type": "stream",
     "text": [
      "Unnamed: 0                            0.000000\n",
      "front_left_unsprung_displacement     -0.002362\n",
      "front_left_tire_centric_forces_0      0.000000\n",
      "front_left_tire_centric_forces_1    347.571828\n",
      "front_left_tire_centric_forces_2   -227.803944\n",
      "                                       ...    \n",
      "x_double_dot                         -8.285717\n",
      "y_double_dot                        -19.597563\n",
      "yaw_acceleration                     -0.887197\n",
      "roll                                  0.005401\n",
      "pitch                                 0.020588\n",
      "Name: 0, Length: 71, dtype: float64\n"
     ]
    }
   ],
   "source": [
    "data_point = df.iloc[100]\n",
    "for index, point in df.iterrows():\n",
    "    if abs(point[\"yaw_acceleration\"]) < 5 and abs(point[\"y_double_dot\"]) > abs(data_point[\"y_double_dot\"]):\n",
    "       data_point = point\n",
    "print(data_point)"
   ]
  },
  {
   "cell_type": "code",
   "execution_count": 99,
   "metadata": {},
   "outputs": [
    {
     "ename": "KeyError",
     "evalue": "'NRR'",
     "output_type": "error",
     "traceback": [
      "\u001b[1;31m---------------------------------------------------------------------------\u001b[0m",
      "\u001b[1;31mKeyError\u001b[0m                                  Traceback (most recent call last)",
      "\u001b[1;32m~\\AppData\\Local\\Programs\\Python\\Python37\\lib\\site-packages\\pandas\\core\\indexes\\base.py\u001b[0m in \u001b[0;36mget_loc\u001b[1;34m(self, key, method, tolerance)\u001b[0m\n\u001b[0;32m   2890\u001b[0m             \u001b[1;32mtry\u001b[0m\u001b[1;33m:\u001b[0m\u001b[1;33m\u001b[0m\u001b[1;33m\u001b[0m\u001b[0m\n\u001b[1;32m-> 2891\u001b[1;33m                 \u001b[1;32mreturn\u001b[0m \u001b[0mself\u001b[0m\u001b[1;33m.\u001b[0m\u001b[0m_engine\u001b[0m\u001b[1;33m.\u001b[0m\u001b[0mget_loc\u001b[0m\u001b[1;33m(\u001b[0m\u001b[0mcasted_key\u001b[0m\u001b[1;33m)\u001b[0m\u001b[1;33m\u001b[0m\u001b[1;33m\u001b[0m\u001b[0m\n\u001b[0m\u001b[0;32m   2892\u001b[0m             \u001b[1;32mexcept\u001b[0m \u001b[0mKeyError\u001b[0m \u001b[1;32mas\u001b[0m \u001b[0merr\u001b[0m\u001b[1;33m:\u001b[0m\u001b[1;33m\u001b[0m\u001b[1;33m\u001b[0m\u001b[0m\n",
      "\u001b[1;32mpandas\\_libs\\index.pyx\u001b[0m in \u001b[0;36mpandas._libs.index.IndexEngine.get_loc\u001b[1;34m()\u001b[0m\n",
      "\u001b[1;32mpandas\\_libs\\index.pyx\u001b[0m in \u001b[0;36mpandas._libs.index.IndexEngine.get_loc\u001b[1;34m()\u001b[0m\n",
      "\u001b[1;32mpandas\\_libs\\hashtable_class_helper.pxi\u001b[0m in \u001b[0;36mpandas._libs.hashtable.PyObjectHashTable.get_item\u001b[1;34m()\u001b[0m\n",
      "\u001b[1;32mpandas\\_libs\\hashtable_class_helper.pxi\u001b[0m in \u001b[0;36mpandas._libs.hashtable.PyObjectHashTable.get_item\u001b[1;34m()\u001b[0m\n",
      "\u001b[1;31mKeyError\u001b[0m: 'NRR'",
      "\nThe above exception was the direct cause of the following exception:\n",
      "\u001b[1;31mKeyError\u001b[0m                                  Traceback (most recent call last)",
      "\u001b[1;32m<ipython-input-99-ab24a2473282>\u001b[0m in \u001b[0;36m<module>\u001b[1;34m\u001b[0m\n\u001b[0;32m      2\u001b[0m \u001b[1;31m#plt.scatter(df[\"y_double_dot\"], df[\"NFR\"], label = \"Front Right\")\u001b[0m\u001b[1;33m\u001b[0m\u001b[1;33m\u001b[0m\u001b[1;33m\u001b[0m\u001b[0m\n\u001b[0;32m      3\u001b[0m \u001b[1;31m#plt.scatter(df[\"y_double_dot\"], df[\"NFL\"], label = \"Front Left\")\u001b[0m\u001b[1;33m\u001b[0m\u001b[1;33m\u001b[0m\u001b[1;33m\u001b[0m\u001b[0m\n\u001b[1;32m----> 4\u001b[1;33m \u001b[0mplt\u001b[0m\u001b[1;33m.\u001b[0m\u001b[0mscatter\u001b[0m\u001b[1;33m(\u001b[0m\u001b[0mdf\u001b[0m\u001b[1;33m[\u001b[0m\u001b[1;34m\"y_double_dot\"\u001b[0m\u001b[1;33m]\u001b[0m\u001b[1;33m,\u001b[0m \u001b[0mdf\u001b[0m\u001b[1;33m[\u001b[0m\u001b[1;34m\"NRR\"\u001b[0m\u001b[1;33m]\u001b[0m\u001b[1;33m,\u001b[0m \u001b[0mlabel\u001b[0m \u001b[1;33m=\u001b[0m \u001b[1;34m\"Rear Right\"\u001b[0m\u001b[1;33m)\u001b[0m\u001b[1;33m\u001b[0m\u001b[1;33m\u001b[0m\u001b[0m\n\u001b[0m\u001b[0;32m      5\u001b[0m \u001b[0mplt\u001b[0m\u001b[1;33m.\u001b[0m\u001b[0mscatter\u001b[0m\u001b[1;33m(\u001b[0m\u001b[0mdf\u001b[0m\u001b[1;33m[\u001b[0m\u001b[1;34m\"y_double_dot\"\u001b[0m\u001b[1;33m]\u001b[0m\u001b[1;33m,\u001b[0m \u001b[0mdf\u001b[0m\u001b[1;33m[\u001b[0m\u001b[1;34m\"NRL\"\u001b[0m\u001b[1;33m]\u001b[0m\u001b[1;33m,\u001b[0m \u001b[0mlabel\u001b[0m \u001b[1;33m=\u001b[0m \u001b[1;34m\"Rear Left\"\u001b[0m\u001b[1;33m)\u001b[0m\u001b[1;33m\u001b[0m\u001b[1;33m\u001b[0m\u001b[0m\n\u001b[0;32m      6\u001b[0m \u001b[0mplt\u001b[0m\u001b[1;33m.\u001b[0m\u001b[0mtitle\u001b[0m\u001b[1;33m(\u001b[0m\u001b[1;34m\"Normal Force vs Lateral Accel\"\u001b[0m\u001b[1;33m)\u001b[0m\u001b[1;33m\u001b[0m\u001b[1;33m\u001b[0m\u001b[0m\n",
      "\u001b[1;32m~\\AppData\\Local\\Programs\\Python\\Python37\\lib\\site-packages\\pandas\\core\\frame.py\u001b[0m in \u001b[0;36m__getitem__\u001b[1;34m(self, key)\u001b[0m\n\u001b[0;32m   2900\u001b[0m             \u001b[1;32mif\u001b[0m \u001b[0mself\u001b[0m\u001b[1;33m.\u001b[0m\u001b[0mcolumns\u001b[0m\u001b[1;33m.\u001b[0m\u001b[0mnlevels\u001b[0m \u001b[1;33m>\u001b[0m \u001b[1;36m1\u001b[0m\u001b[1;33m:\u001b[0m\u001b[1;33m\u001b[0m\u001b[1;33m\u001b[0m\u001b[0m\n\u001b[0;32m   2901\u001b[0m                 \u001b[1;32mreturn\u001b[0m \u001b[0mself\u001b[0m\u001b[1;33m.\u001b[0m\u001b[0m_getitem_multilevel\u001b[0m\u001b[1;33m(\u001b[0m\u001b[0mkey\u001b[0m\u001b[1;33m)\u001b[0m\u001b[1;33m\u001b[0m\u001b[1;33m\u001b[0m\u001b[0m\n\u001b[1;32m-> 2902\u001b[1;33m             \u001b[0mindexer\u001b[0m \u001b[1;33m=\u001b[0m \u001b[0mself\u001b[0m\u001b[1;33m.\u001b[0m\u001b[0mcolumns\u001b[0m\u001b[1;33m.\u001b[0m\u001b[0mget_loc\u001b[0m\u001b[1;33m(\u001b[0m\u001b[0mkey\u001b[0m\u001b[1;33m)\u001b[0m\u001b[1;33m\u001b[0m\u001b[1;33m\u001b[0m\u001b[0m\n\u001b[0m\u001b[0;32m   2903\u001b[0m             \u001b[1;32mif\u001b[0m \u001b[0mis_integer\u001b[0m\u001b[1;33m(\u001b[0m\u001b[0mindexer\u001b[0m\u001b[1;33m)\u001b[0m\u001b[1;33m:\u001b[0m\u001b[1;33m\u001b[0m\u001b[1;33m\u001b[0m\u001b[0m\n\u001b[0;32m   2904\u001b[0m                 \u001b[0mindexer\u001b[0m \u001b[1;33m=\u001b[0m \u001b[1;33m[\u001b[0m\u001b[0mindexer\u001b[0m\u001b[1;33m]\u001b[0m\u001b[1;33m\u001b[0m\u001b[1;33m\u001b[0m\u001b[0m\n",
      "\u001b[1;32m~\\AppData\\Local\\Programs\\Python\\Python37\\lib\\site-packages\\pandas\\core\\indexes\\base.py\u001b[0m in \u001b[0;36mget_loc\u001b[1;34m(self, key, method, tolerance)\u001b[0m\n\u001b[0;32m   2891\u001b[0m                 \u001b[1;32mreturn\u001b[0m \u001b[0mself\u001b[0m\u001b[1;33m.\u001b[0m\u001b[0m_engine\u001b[0m\u001b[1;33m.\u001b[0m\u001b[0mget_loc\u001b[0m\u001b[1;33m(\u001b[0m\u001b[0mcasted_key\u001b[0m\u001b[1;33m)\u001b[0m\u001b[1;33m\u001b[0m\u001b[1;33m\u001b[0m\u001b[0m\n\u001b[0;32m   2892\u001b[0m             \u001b[1;32mexcept\u001b[0m \u001b[0mKeyError\u001b[0m \u001b[1;32mas\u001b[0m \u001b[0merr\u001b[0m\u001b[1;33m:\u001b[0m\u001b[1;33m\u001b[0m\u001b[1;33m\u001b[0m\u001b[0m\n\u001b[1;32m-> 2893\u001b[1;33m                 \u001b[1;32mraise\u001b[0m \u001b[0mKeyError\u001b[0m\u001b[1;33m(\u001b[0m\u001b[0mkey\u001b[0m\u001b[1;33m)\u001b[0m \u001b[1;32mfrom\u001b[0m \u001b[0merr\u001b[0m\u001b[1;33m\u001b[0m\u001b[1;33m\u001b[0m\u001b[0m\n\u001b[0m\u001b[0;32m   2894\u001b[0m \u001b[1;33m\u001b[0m\u001b[0m\n\u001b[0;32m   2895\u001b[0m         \u001b[1;32mif\u001b[0m \u001b[0mtolerance\u001b[0m \u001b[1;32mis\u001b[0m \u001b[1;32mnot\u001b[0m \u001b[1;32mNone\u001b[0m\u001b[1;33m:\u001b[0m\u001b[1;33m\u001b[0m\u001b[1;33m\u001b[0m\u001b[0m\n",
      "\u001b[1;31mKeyError\u001b[0m: 'NRR'"
     ]
    }
   ],
   "source": [
    "import math\n",
    "#plt.scatter(df[\"y_double_dot\"], df[\"NFR\"], label = \"Front Right\")\n",
    "#plt.scatter(df[\"y_double_dot\"], df[\"NFL\"], label = \"Front Left\")\n",
    "plt.scatter(df[\"y_double_dot\"], df[\"NRR\"], label = \"Rear Right\")\n",
    "plt.scatter(df[\"y_double_dot\"], df[\"NRL\"], label = \"Rear Left\")\n",
    "plt.title(\"Normal Force vs Lateral Accel\")\n",
    "plt.grid()\n",
    "plt.ylabel(\"Normal Force (N)\")\n",
    "plt.xlabel(\"Lateral Acceleration (m/s^2)\")\n",
    "plt.legend()"
   ]
  }
 ],
 "metadata": {
  "interpreter": {
   "hash": "7aab9084ceaadec9751c46267bb0962ae9717eebe939ec4dca00e63ab65e0fb6"
  },
  "kernelspec": {
   "display_name": "Python 3.7.4 64-bit",
   "name": "python3"
  },
  "language_info": {
   "codemirror_mode": {
    "name": "ipython",
    "version": 3
   },
   "file_extension": ".py",
   "mimetype": "text/x-python",
   "name": "python",
   "nbconvert_exporter": "python",
   "pygments_lexer": "ipython3",
   "version": "3.7.4"
  }
 },
 "nbformat": 4,
 "nbformat_minor": 0
}
