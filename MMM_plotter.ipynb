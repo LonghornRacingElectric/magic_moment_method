{
 "cells": [
  {
   "cell_type": "markdown",
   "metadata": {
    "collapsed": true
   },
   "source": [
    "# Milliken Moment Diagram Analysis\n",
    "\n",
    "Importing necessary libraries"
   ]
  },
  {
   "cell_type": "code",
   "execution_count": 1,
   "metadata": {},
   "outputs": [],
   "source": [
    "import math\n",
    "import matplotlib.pyplot as plt\n",
    "import numpy as np\n",
    "import pandas as pd\n",
    "import sys\n",
    "sys.path.append(\"..\")\n",
    "import magic_moment_method.vehicle_params as vehicle_params\n",
    "import magic_moment_method.state_solver as state_solver\n",
    "from magic_moment_method.solver_sweeper import solver_sweeper\n",
    "import labellines"
   ]
  },
  {
   "cell_type": "code",
   "execution_count": 2,
   "metadata": {},
   "outputs": [
    {
     "name": "stderr",
     "output_type": "stream",
     "text": [
      "1922it [00:30, 62.68it/s]\n"
     ]
    }
   ],
   "source": [
    "mesh = 31 # NOTE: MAKE SURE THIS IS ODD\n",
    "\n",
    "# NOTE: guesstimation based from TTC on maximum tire saturation slip angle\n",
    "sweep_range = {\"body_slip\": (-10 * np.pi / 180, 10 * np.pi / 180),\n",
    "        \"steered_angle\" : (-20 * np.pi / 180, 20 * np.pi / 180),\n",
    "        \"velocity\" : (3, 30),\n",
    "        \"torque_request\": (-1, 1),\n",
    "        \"is_left_diff_bias\": (True)}\n",
    "\n",
    "body_slip_sweep = np.linspace(sweep_range[\"body_slip\"][0], sweep_range[\"body_slip\"][1], mesh)\n",
    "steered_angle_sweep = np.linspace(sweep_range[\"steered_angle\"][0], sweep_range[\"steered_angle\"][1], mesh)\n",
    "torque_sweep = np.linspace(sweep_range[\"torque_request\"][0], sweep_range[\"torque_request\"][1], mesh)\n",
    "\n",
    "sweep_values = {\"velocity\": [12], \"body_slip\":body_slip_sweep, \"steered_angle\":steered_angle_sweep,\n",
    "                 \"torque_request\": [0], \"is_left_diff_bias\" : [True, False]}\n",
    "\n",
    "\n",
    "vehicle = vehicle_params.Concept2023(motor_directory=\"vehicle_params/Eff228.csv\")\n",
    "\n",
    "df = solver_sweeper(vehicle, sweep_values)\n",
    "\n",
    "tires = [\"front_left\", \"front_right\", \"rear_left\", \"rear_right\"]"
   ]
  },
  {
   "cell_type": "markdown",
   "metadata": {},
   "source": [
    "Import generated points & filter garbage points"
   ]
  },
  {
   "cell_type": "markdown",
   "metadata": {},
   "source": [
    "MMD Plot (Note - this really doesnt work when you are sweeping velocities and torque requests)"
   ]
  },
  {
   "cell_type": "code",
   "execution_count": 3,
   "metadata": {
    "pycharm": {
     "name": "#%%\n"
    }
   },
   "outputs": [
    {
     "ename": "KeyError",
     "evalue": "'body_slip'",
     "output_type": "error",
     "traceback": [
      "\u001b[1;31m---------------------------------------------------------------------------\u001b[0m",
      "\u001b[1;31mKeyError\u001b[0m                                  Traceback (most recent call last)",
      "File \u001b[1;32m~\\AppData\\Local\\Programs\\Python\\Python310\\lib\\site-packages\\pandas\\core\\indexes\\base.py:3621\u001b[0m, in \u001b[0;36mIndex.get_loc\u001b[1;34m(self, key, method, tolerance)\u001b[0m\n\u001b[0;32m   3620\u001b[0m \u001b[38;5;28;01mtry\u001b[39;00m:\n\u001b[1;32m-> 3621\u001b[0m     \u001b[38;5;28;01mreturn\u001b[39;00m \u001b[38;5;28;43mself\u001b[39;49m\u001b[38;5;241;43m.\u001b[39;49m\u001b[43m_engine\u001b[49m\u001b[38;5;241;43m.\u001b[39;49m\u001b[43mget_loc\u001b[49m\u001b[43m(\u001b[49m\u001b[43mcasted_key\u001b[49m\u001b[43m)\u001b[49m\n\u001b[0;32m   3622\u001b[0m \u001b[38;5;28;01mexcept\u001b[39;00m \u001b[38;5;167;01mKeyError\u001b[39;00m \u001b[38;5;28;01mas\u001b[39;00m err:\n",
      "File \u001b[1;32m~\\AppData\\Local\\Programs\\Python\\Python310\\lib\\site-packages\\pandas\\_libs\\index.pyx:136\u001b[0m, in \u001b[0;36mpandas._libs.index.IndexEngine.get_loc\u001b[1;34m()\u001b[0m\n",
      "File \u001b[1;32m~\\AppData\\Local\\Programs\\Python\\Python310\\lib\\site-packages\\pandas\\_libs\\index.pyx:163\u001b[0m, in \u001b[0;36mpandas._libs.index.IndexEngine.get_loc\u001b[1;34m()\u001b[0m\n",
      "File \u001b[1;32mpandas\\_libs\\hashtable_class_helper.pxi:5198\u001b[0m, in \u001b[0;36mpandas._libs.hashtable.PyObjectHashTable.get_item\u001b[1;34m()\u001b[0m\n",
      "File \u001b[1;32mpandas\\_libs\\hashtable_class_helper.pxi:5206\u001b[0m, in \u001b[0;36mpandas._libs.hashtable.PyObjectHashTable.get_item\u001b[1;34m()\u001b[0m\n",
      "\u001b[1;31mKeyError\u001b[0m: 'body_slip'",
      "\nThe above exception was the direct cause of the following exception:\n",
      "\u001b[1;31mKeyError\u001b[0m                                  Traceback (most recent call last)",
      "Input \u001b[1;32mIn [3]\u001b[0m, in \u001b[0;36m<cell line: 5>\u001b[1;34m()\u001b[0m\n\u001b[0;32m      3\u001b[0m mmm_df \u001b[38;5;241m=\u001b[39m df \u001b[38;5;66;03m# df[abs(df[\"torque_request\"]-0) < 0.01 ]\u001b[39;00m\n\u001b[0;32m      4\u001b[0m \u001b[38;5;66;03m# mmm_df = df[(df[\"vehicle_accelerations_NTB_1\"] > 0) & (df[\"is_left_diff_bias\"] != False) | (df[\"vehicle_accelerations_NTB_1\"] < 0) & (df[\"is_left_diff_bias\"] != True)]\u001b[39;00m\n\u001b[1;32m----> 5\u001b[0m \u001b[38;5;28;01mfor\u001b[39;00m x \u001b[38;5;129;01min\u001b[39;00m \u001b[43mmmm_df\u001b[49m\u001b[43m[\u001b[49m\u001b[38;5;124;43m\"\u001b[39;49m\u001b[38;5;124;43mbody_slip\u001b[39;49m\u001b[38;5;124;43m\"\u001b[39;49m\u001b[43m]\u001b[49m\u001b[38;5;241m.\u001b[39munique():\n\u001b[0;32m      6\u001b[0m     df2 \u001b[38;5;241m=\u001b[39m mmm_df[mmm_df[\u001b[38;5;124m\"\u001b[39m\u001b[38;5;124mbody_slip\u001b[39m\u001b[38;5;124m\"\u001b[39m] \u001b[38;5;241m==\u001b[39m x]\n\u001b[0;32m      7\u001b[0m     plt\u001b[38;5;241m.\u001b[39mplot(df2[\u001b[38;5;124m\"\u001b[39m\u001b[38;5;124mvehicle_accelerations_NTB_1\u001b[39m\u001b[38;5;124m\"\u001b[39m]\u001b[38;5;241m/\u001b[39m\u001b[38;5;241m9.81\u001b[39m, df2[\u001b[38;5;124m\"\u001b[39m\u001b[38;5;124myaw_acceleration\u001b[39m\u001b[38;5;124m\"\u001b[39m], \u001b[38;5;124m'\u001b[39m\u001b[38;5;124mr\u001b[39m\u001b[38;5;124m'\u001b[39m, label \u001b[38;5;241m=\u001b[39m \u001b[38;5;28mint\u001b[39m(x\u001b[38;5;241m*\u001b[39m\u001b[38;5;241m180\u001b[39m\u001b[38;5;241m/\u001b[39mnp\u001b[38;5;241m.\u001b[39mpi))\n",
      "File \u001b[1;32m~\\AppData\\Local\\Programs\\Python\\Python310\\lib\\site-packages\\pandas\\core\\frame.py:3505\u001b[0m, in \u001b[0;36mDataFrame.__getitem__\u001b[1;34m(self, key)\u001b[0m\n\u001b[0;32m   3503\u001b[0m \u001b[38;5;28;01mif\u001b[39;00m \u001b[38;5;28mself\u001b[39m\u001b[38;5;241m.\u001b[39mcolumns\u001b[38;5;241m.\u001b[39mnlevels \u001b[38;5;241m>\u001b[39m \u001b[38;5;241m1\u001b[39m:\n\u001b[0;32m   3504\u001b[0m     \u001b[38;5;28;01mreturn\u001b[39;00m \u001b[38;5;28mself\u001b[39m\u001b[38;5;241m.\u001b[39m_getitem_multilevel(key)\n\u001b[1;32m-> 3505\u001b[0m indexer \u001b[38;5;241m=\u001b[39m \u001b[38;5;28;43mself\u001b[39;49m\u001b[38;5;241;43m.\u001b[39;49m\u001b[43mcolumns\u001b[49m\u001b[38;5;241;43m.\u001b[39;49m\u001b[43mget_loc\u001b[49m\u001b[43m(\u001b[49m\u001b[43mkey\u001b[49m\u001b[43m)\u001b[49m\n\u001b[0;32m   3506\u001b[0m \u001b[38;5;28;01mif\u001b[39;00m is_integer(indexer):\n\u001b[0;32m   3507\u001b[0m     indexer \u001b[38;5;241m=\u001b[39m [indexer]\n",
      "File \u001b[1;32m~\\AppData\\Local\\Programs\\Python\\Python310\\lib\\site-packages\\pandas\\core\\indexes\\base.py:3623\u001b[0m, in \u001b[0;36mIndex.get_loc\u001b[1;34m(self, key, method, tolerance)\u001b[0m\n\u001b[0;32m   3621\u001b[0m     \u001b[38;5;28;01mreturn\u001b[39;00m \u001b[38;5;28mself\u001b[39m\u001b[38;5;241m.\u001b[39m_engine\u001b[38;5;241m.\u001b[39mget_loc(casted_key)\n\u001b[0;32m   3622\u001b[0m \u001b[38;5;28;01mexcept\u001b[39;00m \u001b[38;5;167;01mKeyError\u001b[39;00m \u001b[38;5;28;01mas\u001b[39;00m err:\n\u001b[1;32m-> 3623\u001b[0m     \u001b[38;5;28;01mraise\u001b[39;00m \u001b[38;5;167;01mKeyError\u001b[39;00m(key) \u001b[38;5;28;01mfrom\u001b[39;00m \u001b[38;5;21;01merr\u001b[39;00m\n\u001b[0;32m   3624\u001b[0m \u001b[38;5;28;01mexcept\u001b[39;00m \u001b[38;5;167;01mTypeError\u001b[39;00m:\n\u001b[0;32m   3625\u001b[0m     \u001b[38;5;66;03m# If we have a listlike key, _check_indexing_error will raise\u001b[39;00m\n\u001b[0;32m   3626\u001b[0m     \u001b[38;5;66;03m#  InvalidIndexError. Otherwise we fall through and re-raise\u001b[39;00m\n\u001b[0;32m   3627\u001b[0m     \u001b[38;5;66;03m#  the TypeError.\u001b[39;00m\n\u001b[0;32m   3628\u001b[0m     \u001b[38;5;28mself\u001b[39m\u001b[38;5;241m.\u001b[39m_check_indexing_error(key)\n",
      "\u001b[1;31mKeyError\u001b[0m: 'body_slip'"
     ]
    },
    {
     "data": {
      "image/png": "[encoded data removed]",
      "text/plain": [
       "<Figure size 1080x900 with 1 Axes>"
      ]
     },
     "metadata": {
      "needs_background": "light"
     },
     "output_type": "display_data"
    }
   ],
   "source": [
    "fig = plt.figure(figsize=(12, 10), dpi=90)\n",
    "ax = fig.add_subplot(111)\n",
    "mmm_df = df # df[abs(df[\"torque_request\"]-0) < 0.01 ]\n",
    "# mmm_df = df[(df[\"vehicle_accelerations_NTB_1\"] > 0) & (df[\"is_left_diff_bias\"] != False) | (df[\"vehicle_accelerations_NTB_1\"] < 0) & (df[\"is_left_diff_bias\"] != True)]\n",
    "for x in mmm_df[\"body_slip\"].unique():\n",
    "    df2 = mmm_df[mmm_df[\"body_slip\"] == x]\n",
    "    plt.plot(df2[\" vehicle_accelerations_NTB_1\"]/9.81, df2[\"yaw_acceleration\"], 'r', label = int(x*180/np.pi))\n",
    "#labellines.labelLines(plt.gca().get_lines(),zorder=2)\n",
    "\n",
    "for x in mmm_df[\"steered_angle\"].unique():\n",
    "    df2 = mmm_df[(mmm_df[\"steered_angle\"] == x)]\n",
    "    plt.plot(df2[\"vehicle_accelerations_NTB_1\"]/9.81, df2[\"yaw_acceleration\"], 'b', label = int(x*180/np.pi))\n",
    "labellines.labelLines(plt.gca().get_lines(),zorder=2)\n",
    "\n",
    "#plt.scatter(df[\"vehicle_accelerations_NTB_1\"]/9.81, df[\"yaw_acceleration\"])\n",
    "\n",
    "plt.grid()\n",
    "plt.ylabel(\"Yaw Acceleration (rad/s^2)\")\n",
    "\n",
    "plt.xlabel(\"Lateral Acceleration (g)\")\n",
    "plt.title(\"Milliken Moment Method \\n Blue -> Discrete Steered Angle (deg); Red -> Discrete Body Slip (deg)\")\n",
    "\n",
    "plt.xlim([-1.6,1.6])\n",
    "# plt.xlim([1.8,2.2])"
   ]
  },
  {
   "cell_type": "code",
   "execution_count": null,
   "metadata": {},
   "outputs": [],
   "source": [
    "print(df[[\"body_slip\", \"steered_angle\"]].head)"
   ]
  },
  {
   "cell_type": "code",
   "execution_count": null,
   "metadata": {},
   "outputs": [],
   "source": [
    "plt.scatter(df[\"vehicle_accelerations_NTB_1\"]/9.81, df[\"vehicle_accelerations_NTB_0\"]/9.81 , c=df[\"torque_request\"],cmap=\"viridis\")\n",
    "plt.title(\"g-g Diagram\")\n",
    "plt.ylabel(\"Long Acceleration (m/s^2)\")\n",
    "plt.xlabel(\"Lateral Acceleration (m/s^2)\")\n",
    "plt.grid()\n",
    "from scipy.spatial import ConvexHull\n",
    "points = df[[\"vehicle_accelerations_NTB_1\",\"vehicle_accelerations_NTB_0\"]].to_numpy()\n",
    "hull = ConvexHull(points)\n",
    "x = np.transpose(points)\n",
    "plt.plot(points[hull.vertices,0]/9.81, points[hull.vertices,1]/9.81, 'r--', lw=2)\n",
    "plt.plot(points[hull.vertices[0],0]/9.81, points[hull.vertices[0],1]/9.81, 'ro')\n",
    "#plt.scatter(x[0], x[1])\n",
    "plt.show()\n",
    "new_df = df.iloc[hull.vertices]"
   ]
  },
  {
   "cell_type": "code",
   "execution_count": null,
   "metadata": {},
   "outputs": [],
   "source": [
    "plt.scatter(new_df[\"torque_request\"], new_df[\"vehicle_accelerations_NTB_0\"], s=10)\n",
    "plt.grid()"
   ]
  },
  {
   "cell_type": "code",
   "execution_count": null,
   "metadata": {},
   "outputs": [],
   "source": [
    "plt.scatter(df[\"torque_request\"], df[\"vehicle_accelerations_NTB_1\"], s=10)\n",
    "plt.grid()"
   ]
  },
  {
   "cell_type": "code",
   "execution_count": null,
   "metadata": {},
   "outputs": [],
   "source": [
    "fig, axs = plt.subplots(1,3,figsize=(16, 6), dpi=80)\n",
    "\n",
    "axs[0].scatter(df['vehicle_accelerations_NTB_1'], df['roll'] * (180 / np.pi))\n",
    "axs[0].set_xlabel(\"Lateral Acceleration (m/s^2)\")\n",
    "axs[0].set_ylabel('Roll Angle (Degrees)')\n",
    "axs[0].set_title(\"Roll Angle vs Lateral Accel\")\n",
    "axs[0].grid()\n",
    "\n",
    "axs[1].scatter(df['vehicle_accelerations_NTB_1'], df['pitch'] * (180 / np.pi))\n",
    "axs[1].set_xlabel(\"Lateral Acceleration (m/s^2)\")\n",
    "axs[1].set_ylabel('Pitch Angle (Degrees)')\n",
    "axs[1].set_title(\"Pitch Angle vs Lateral Accel\")\n",
    "axs[1].grid()\n",
    "\n",
    "axs[2].scatter(df['vehicle_accelerations_NTB_1'], df['heave']/.0254)\n",
    "axs[2].set_xlabel(\"Lateral Acceleration (m/s^2)\")\n",
    "axs[2].set_ylabel('Heave (in)')\n",
    "axs[2].set_title(\"Heave vs Lateral Accel\")\n",
    "axs[2].grid()"
   ]
  },
  {
   "cell_type": "code",
   "execution_count": null,
   "metadata": {},
   "outputs": [],
   "source": [
    "fig, axs = plt.subplots(1,3,figsize=(16, 6), dpi=80)\n",
    "\n",
    "for tire in tires:\n",
    "    axs[0].scatter(df[\"vehicle_accelerations_NTB_1\"], df[f\"{tire}_tire_f_roll\"], label = tire)\n",
    "axs[0].set_title(\"Roll Spring - Normal Force vs Lateral Accel\")\n",
    "axs[0].grid()\n",
    "axs[0].set_ylabel(\"Normal Force Roll (N)\")\n",
    "axs[0].set_xlabel(\"Lateral Acceleration (m/s^2)\")\n",
    "axs[0].legend()\n",
    "\n",
    "for tire in tires:\n",
    "    axs[1].scatter(df[\"vehicle_accelerations_NTB_1\"], df[f\"{tire}_tire_f_heave\"], label = tire)\n",
    "axs[1].set_title(\"Heave Spring- Normal Force vs Lateral Accel\")\n",
    "axs[1].grid()\n",
    "axs[1].set_ylabel(\"Heave Normal Force (N)\")\n",
    "axs[1].set_xlabel(\"Lateral Acceleration (m/s^2)\")\n",
    "axs[1].legend()\n",
    "\n",
    "for tire in tires:\n",
    "    axs[2].scatter(df[\"vehicle_accelerations_NTB_1\"], df[f\"{tire}_tire_f_pitch\"], label = tire)\n",
    "axs[2].set_title(\"Pitch Spring - Normal Force vs Lateral Accel\")\n",
    "axs[2].grid()\n",
    "axs[2].set_ylabel(\"Pitch Normal Force (N)\")\n",
    "axs[2].set_xlabel(\"Lateral Acceleration (m/s^2)\")\n",
    "axs[2].legend()"
   ]
  },
  {
   "cell_type": "code",
   "execution_count": null,
   "metadata": {},
   "outputs": [],
   "source": [
    "fig, axs = plt.subplots(1,4,figsize=(16, 6), dpi=80)\n",
    "\n",
    "axs[0].scatter(df['vehicle_accelerations_NTB_1'], df['rear_right_tire_slip_angle'] * (180 / np.pi), label='Rear Right')\n",
    "axs[0].scatter(df['vehicle_accelerations_NTB_1'], df['rear_left_tire_slip_angle'] * (180 / np.pi), label='Rear Left')\n",
    "axs[0].scatter(df['vehicle_accelerations_NTB_1'], df['front_right_tire_slip_angle'] * (180 / np.pi), label='Front Right')\n",
    "axs[0].scatter(df['vehicle_accelerations_NTB_1'], df['front_left_tire_slip_angle'] * (180 / np.pi), label='Front Left')\n",
    "axs[0].legend()\n",
    "axs[0].set_xlabel(\"Lateral Acceleration (m/s^2)\")\n",
    "axs[0].set_ylabel('Wheel Slip Angle (Degrees)')\n",
    "axs[0].set_title(\"Slip Angle vs Lateral Accel\")\n",
    "axs[0].grid()\n",
    "\n",
    "axs[1].scatter(df['vehicle_accelerations_NTB_1'], df['rear_right_tire_inclination_angle'] * (180 / np.pi), label='Rear Right')\n",
    "axs[1].scatter(df['vehicle_accelerations_NTB_1'], df['rear_left_tire_inclination_angle'] * (180 / np.pi), label='Rear Left')\n",
    "axs[1].scatter(df['vehicle_accelerations_NTB_1'], df['front_right_tire_inclination_angle'] * (180 / np.pi), label='Front Right')\n",
    "axs[1].scatter(df['vehicle_accelerations_NTB_1'], df['front_left_tire_inclination_angle'] * (180 / np.pi), label='Front Left')\n",
    "axs[1].legend()\n",
    "axs[1].set_xlabel(\"Lateral Acceleration (m/s^2)\")\n",
    "axs[1].set_ylabel('Wheel Inclination Angle (Degrees)')\n",
    "axs[1].set_title(\"IA Angle vs Lateral Accel\")\n",
    "axs[1].grid()\n",
    "\n",
    "axs[2].scatter(df['vehicle_accelerations_NTB_1'], df['rear_right_tire_velocity_0'], label='Rear Right')\n",
    "axs[2].scatter(df['vehicle_accelerations_NTB_1'], df['rear_left_tire_velocity_0'], label='Rear Left')\n",
    "axs[2].scatter(df['vehicle_accelerations_NTB_1'], df['front_right_tire_velocity_0'], label='Front Right')\n",
    "axs[2].scatter(df['vehicle_accelerations_NTB_1'], df['front_left_tire_velocity_0'], label='Front Left')\n",
    "axs[2].legend()\n",
    "axs[2].set_xlabel(\"Lateral Acceleration (m/s^2)\")\n",
    "axs[2].set_ylabel('Tire Velocity (m/s)')\n",
    "axs[2].set_title(\"Tire Velocity vs Lateral Accel\")\n",
    "axs[2].grid()\n",
    "\n",
    "axs[3].scatter(df['vehicle_accelerations_NTB_1'], df['rear_right_tire_slip_ratio'], label='Rear Right')\n",
    "axs[3].scatter(df['vehicle_accelerations_NTB_1'], df['rear_left_tire_slip_ratio'], label='Rear Left')\n",
    "axs[3].scatter(df['vehicle_accelerations_NTB_1'], df['front_right_tire_slip_ratio'], label='Front Right')\n",
    "axs[3].scatter(df['vehicle_accelerations_NTB_1'], df['front_left_tire_slip_ratio'], label='Front Left')\n",
    "axs[3].legend()\n",
    "axs[3].set_xlabel(\"Lateral Acceleration (m/s^2)\")\n",
    "axs[3].set_ylabel('Tire Slip Ratio (%)')\n",
    "axs[3].set_title(\"Tire Slip Ratio vs Lateral Accel\")\n",
    "axs[3].grid()"
   ]
  },
  {
   "cell_type": "code",
   "execution_count": null,
   "metadata": {},
   "outputs": [],
   "source": [
    "temp_df = df[abs(df[\"vehicle_turn_radius\"]) < 1000]\n",
    "plt.scatter(temp_df[\"vehicle_accelerations_NTB_1\"],temp_df[\"vehicle_turn_radius\"])\n",
    "plt.grid()\n",
    "plt.title(\"Turn Radius vs Lateral Accel (constant velocity)\")"
   ]
  },
  {
   "cell_type": "code",
   "execution_count": null,
   "metadata": {},
   "outputs": [],
   "source": [
    "for x in mmm_df[\"steered_angle\"].unique():\n",
    "    if True:#x == 0:\n",
    "        df2 = mmm_df[(mmm_df[\"steered_angle\"] == x)]\n",
    "        plt.plot(df2[\"body_slip\"] * 180/math.pi, df2[\"vehicle_yaw_moment\"]/9.81)\n",
    "plt.xlim([0, 13])\n",
    "plt.title(\"Stability Index - Yaw Moment vs Body Slip (Steered Angle sweep)\")\n",
    "plt.ylabel(\"Yaw Moment (Nm)\")\n",
    "plt.xlabel(\"Body Slip (degrees)\")\n",
    "plt.grid(True)\n",
    "plt.show()"
   ]
  },
  {
   "cell_type": "code",
   "execution_count": null,
   "metadata": {},
   "outputs": [],
   "source": [
    "import magic_moment_method.vehicle_params as vehicle_params\n",
    "import magic_moment_method.state_solver as state_solver\n",
    "vehicle = state_solver.Vehicle(vehicle_params.EasyDriver())\n",
    "slip_angles = np.linspace(-30, 30, 1000)\n",
    "s = vehicle.suspension\n",
    "for normal_force in np.linspace(10, 2000, 10):\n",
    "    output_force = [vehicle.suspension._Suspension__tires.front_right.lateral_pacejka(0, normal_force, y/180*np.pi) for y in slip_angles]\n",
    "    plt.plot(slip_angles, output_force)\n",
    "plt.grid()\n",
    "plt.title(\"Front Tire - Lateral Fit\")"
   ]
  },
  {
   "cell_type": "code",
   "execution_count": null,
   "metadata": {},
   "outputs": [],
   "source": [
    "slip_ratios = np.linspace(-1, 1, 15)\n",
    "normal_loads = np.array([500, 750, 100])\n",
    "colors = np.array([\"r\", \"g\", \"b\"])\n",
    "for index, load in enumerate(normal_loads):\n",
    "    output = []\n",
    "    for slip_ratio in slip_ratios:\n",
    "        for slip_angle in slip_ratios:\n",
    "            comstock_output = s._Suspension__tires.front_left.get_comstock_forces(slip_ratio, slip_angle, load, 0)\n",
    "            output.append([comstock_output[0], comstock_output[1]])\n",
    "            plt.scatter(comstock_output[0], comstock_output[1], c= colors[index])\n",
    "plt.ylabel(\"Lateral Acceleration (m/s^2)\")\n",
    "plt.xlabel(\"Long Acceleration (m/s^2)\")\n",
    "plt.title(\"Long vs Lateral\")\n",
    "plt.legend(normal_loads)\n",
    "plt.show()"
   ]
  },
  {
   "cell_type": "code",
   "execution_count": null,
   "metadata": {},
   "outputs": [],
   "source": [
    "#temp_df = df[abs(df[\"vehicle_turn_radius\"]) < 1000]\n",
    "plt.scatter(df[\"vehicle_accelerations_NTB_1\"],df[\"front_right_tire_disp\"])\n",
    "plt.scatter(df[\"vehicle_accelerations_NTB_1\"],df[\"front_left_tire_disp\"])\n",
    "plt.scatter(df[\"vehicle_accelerations_NTB_1\"],df[\"rear_right_tire_disp\"])\n",
    "plt.scatter(df[\"vehicle_accelerations_NTB_1\"],df[\"rear_left_tire_disp\"])\n",
    "plt.grid()"
   ]
  },
  {
   "cell_type": "code",
   "execution_count": null,
   "metadata": {},
   "outputs": [],
   "source": [
    "plt.scatter(df[\"vehicle_accelerations_NTB_1\"],df[\"aero_forces_0\"], label = \"drag\")\n",
    "plt.scatter(df[\"vehicle_accelerations_NTB_1\"],df[\"aero_forces_1\"], label = \"sideforce\")\n",
    "plt.scatter(df[\"vehicle_accelerations_NTB_1\"],df[\"aero_forces_2\"], label = \"downforce\")\n",
    "plt.legend()\n",
    "plt.grid()\n",
    "plt.ylabel(\"Force (N)\")\n",
    "plt.xlabel(\"Lateral Acceleration (m/s^2)\")"
   ]
  },
  {
   "cell_type": "code",
   "execution_count": null,
   "metadata": {},
   "outputs": [],
   "source": [
    "plt.scatter(df[\"body_slip\"]*180/np.pi,df[\"aero_forces_1\"], label = \"sideforce\")\n",
    "plt.grid()\n",
    "plt.ylabel(\"Side Force (N)\")\n",
    "plt.xlabel(\"Body Slip (degs)\")\n",
    "plt.title(\"Side Force vs Body Slip\")"
   ]
  },
  {
   "cell_type": "code",
   "execution_count": null,
   "metadata": {},
   "outputs": [],
   "source": [
    "plt.scatter(df[\"heave\"],df[\"aero_forces_2\"], label = \"downforce\")\n",
    "plt.grid()\n",
    "plt.ylabel(\"Downforce (N)\")\n",
    "plt.xlabel(\"Heave (m)\")"
   ]
  },
  {
   "cell_type": "code",
   "execution_count": null,
   "metadata": {},
   "outputs": [],
   "source": [
    "cg_heights = [14, 12, 10, 8, 6]\n",
    "lateral_forces = np.array([4134, 4300, 4475, 4650, 4816]) / (500+150) / 4.448\n",
    "\n",
    "plt.scatter(cg_heights, lateral_forces)\n",
    "plt.plot(cg_heights, lateral_forces)\n",
    "plt.grid()\n",
    "plt.title(\"Lateral Acceleration vs CG Height (700 lb car, 5 degrees steering, -3 degrees body slip)\")\n",
    "plt.ylabel(\"Lateral Acceleration (g)\")\n",
    "plt.xlabel(\"CG Height (in)\")"
   ]
  }
 ],
 "metadata": {
  "kernelspec": {
   "display_name": "Python 3 (ipykernel)",
   "language": "python",
   "name": "python3"
  },
  "language_info": {
   "codemirror_mode": {
    "name": "ipython",
    "version": 3
   },
   "file_extension": ".py",
   "mimetype": "text/x-python",
   "name": "python",
   "nbconvert_exporter": "python",
   "pygments_lexer": "ipython3",
   "version": "3.10.7"
  },
  "vscode": {
   "interpreter": {
    "hash": "620eb4ed2007402b8563cffe8a138559637e3ee9804a716022abebb97e63d62a"
   }
  }
 },
 "nbformat": 4,
 "nbformat_minor": 1
}
