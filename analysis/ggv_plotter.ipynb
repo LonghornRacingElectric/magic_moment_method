{
 "cells": [
  {
   "cell_type": "code",
   "execution_count": 4,
   "metadata": {},
   "outputs": [
    {
     "name": "stdout",
     "output_type": "stream",
     "text": [
      "c:\\Users\\kiera\\Documents\\apersonal_documents\\formula\\magic_moment_method\n",
      "c:\\Users\\kiera\\Documents\\apersonal_documents\\formula\\magic_moment_method\\analysis\n"
     ]
    }
   ],
   "source": [
    "import math\n",
    "import numpy as np\n",
    "import pandas as pd\n",
    "import matplotlib.pyplot as plt\n",
    "\n",
    "# TODO: fix this lol\n",
    "%cd ..\n",
    "from helpers.labellines import *\n",
    "%cd analysis/"
   ]
  },
  {
   "cell_type": "code",
   "execution_count": null,
   "metadata": {},
   "outputs": [],
   "source": [
    "df = pd.read_csv(\"MMM.csv\")\n",
    "\n",
    "tires = [\"front_left\", \"front_right\", \"rear_left\", \"rear_right\"]\n",
    "\n",
    "for index, row in df.iterrows():\n",
    "    # see if point is saturated (i.e. all 4 tires slip angles are saturated)\n",
    "    # saturation will yield to useless data point since it will wrap back around with less acceleration\n",
    "    # if not saturated, the point will be saved\n",
    "    # TODO: Should 1 tire even be allowed to lift???\n",
    "    saturated = not False in [[row[f\"{tire}_tire_is_saturated\"] for tire in tires]]\n",
    "\n",
    "    normals = [[row[f\"{tire}_tire_tire_centric_forces_2\"] for tire in tires]]\n",
    "    two_tires_lifting = sum([1 if (tire_normal == 0) else 0 for tire_normal in normals]) > 1\n",
    "\n",
    "    if (saturated or two_tires_lifting or abs(row[\"roll\"]* 180/np.pi) > 3):\n",
    "        df.drop(index)"
   ]
  },
  {
   "cell_type": "code",
   "execution_count": null,
   "metadata": {},
   "outputs": [],
   "source": [
    "\n",
    "plt.plot(df[\"vehicle_accelerations_NTB_1\"], df[\"vehicle_accelerations_NTB_0\"])"
   ]
  },
  {
   "cell_type": "code",
   "execution_count": null,
   "metadata": {},
   "outputs": [],
   "source": [
    "df2 = df[abs(df[\"yaw_acceleration\"]) < 2]\n",
    "df2 = df2[df2[\"vehicle_accelerations_NTB_0\"] < 17]\n",
    "df2 = df2[df2[\"vehicle_accelerations_NTB_0\"] > -25]\n",
    "df2 = df2[df2[\"vehicle_accelerations_NTB_1\"] < 20]\n",
    "plt.scatter(df2[\"vehicle_accelerations_NTB_1\"], df2[\"vehicle_accelerations_NTB_0\"])\n",
    "plt.grid()"
   ]
  },
  {
   "cell_type": "code",
   "execution_count": null,
   "metadata": {},
   "outputs": [],
   "source": [
    "fig, axs = plt.subplots(1,3,figsize=(16, 6), dpi=80)\n",
    "\n",
    "for tire in tires:\n",
    "    axs[0].scatter(df2[\"vehicle_accelerations_NTB_1\"], df2[f\"{tire}_tire_tire_centric_forces_2\"], label = tire)\n",
    "axs[0].set_title(\"Normal Force vs Lateral Accel\")\n",
    "axs[0].grid()\n",
    "axs[0].set_ylabel(\"Normal Force (N)\")\n",
    "axs[0].set_xlabel(\"Lateral Acceleration (m/s^2)\")\n",
    "axs[0].legend()\n",
    "\n",
    "for tire in tires:\n",
    "    axs[1].scatter(df2[\"vehicle_accelerations_NTB_1\"], df2[f\"{tire}_tire_vehicle_centric_forces_1\"], label = tire)\n",
    "axs[1].set_title(\"Lateral Force vs Lateral Accel\")\n",
    "axs[1].grid()\n",
    "axs[1].set_ylabel(\"Lateral Force (N)\")\n",
    "axs[1].set_xlabel(\"Lateral Acceleration (m/s^2)\")\n",
    "axs[1].legend()\n",
    "\n",
    "for tire in tires:\n",
    "    axs[2].scatter(df2[\"vehicle_accelerations_NTB_1\"], df2[f\"{tire}_tire_tire_centric_forces_0\"], label = tire)\n",
    "axs[2].set_title(\"Long Force vs Lateral Accel\")\n",
    "axs[2].grid()\n",
    "axs[2].set_ylabel(\"Long Force (N)\")\n",
    "axs[2].set_xlabel(\"Lateral Acceleration (m/s^2)\")\n",
    "axs[2].legend()"
   ]
  }
 ],
 "metadata": {
  "kernelspec": {
   "display_name": "Python 3.10.7 64-bit",
   "language": "python",
   "name": "python3"
  },
  "language_info": {
   "codemirror_mode": {
    "name": "ipython",
    "version": 3
   },
   "file_extension": ".py",
   "mimetype": "text/x-python",
   "name": "python",
   "nbconvert_exporter": "python",
   "pygments_lexer": "ipython3",
   "version": "3.10.7"
  },
  "orig_nbformat": 4,
  "vscode": {
   "interpreter": {
    "hash": "620eb4ed2007402b8563cffe8a138559637e3ee9804a716022abebb97e63d62a"
   }
  }
 },
 "nbformat": 4,
 "nbformat_minor": 2
}
