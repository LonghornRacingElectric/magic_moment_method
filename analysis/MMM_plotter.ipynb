{
 "cells": [
  {
   "cell_type": "code",
   "execution_count": 2,
   "metadata": {
    "collapsed": true
   },
   "outputs": [
    {
     "name": "stdout",
     "output_type": "stream",
     "text": [
      "c:\\Users\\kiera\\Documents\\apersonal_documents\\formula\\magic_moment_method\n",
      "c:\\Users\\kiera\\Documents\\apersonal_documents\\formula\\magic_moment_method\\analysis\n"
     ]
    }
   ],
   "source": [
    "import math\n",
    "import numpy as np\n",
    "import pandas as pd\n",
    "import matplotlib.pyplot as plt\n",
    "\n",
    "# TODO: fix this lol\n",
    "%cd ..\n",
    "from helpers.labellines import *\n",
    "%cd analysis/"
   ]
  },
  {
   "cell_type": "code",
   "execution_count": 3,
   "metadata": {},
   "outputs": [],
   "source": [
    "df = pd.read_csv(\"MMM.csv\")\n",
    "tires = [\"front_left\", \"front_right\", \"rear_left\", \"rear_right\"]\n",
    "df = df[df[\"roll\"]*180/np.pi < 3]\n",
    "for tire in tires:\n",
    "    x = df[f\"{tire}_tire_is_saturated\"]\n",
    "    df = df[(df[f\"{tire}_tire_is_saturated\"] == False) & (df[f\"{tire}_tire_tire_centric_forces_2\"] > 1) & (df[f\"{tire}_tire_tire_centric_forces_2\"] < 4000)]"
   ]
  },
  {
   "cell_type": "code",
   "execution_count": null,
   "metadata": {
    "pycharm": {
     "name": "#%%\n"
    }
   },
   "outputs": [],
   "source": [
    "fig = plt.figure(figsize=(12, 10), dpi=90)\n",
    "ax = fig.add_subplot(111)\n",
    "\n",
    "for x, _ in df[\"body_slip\"].value_counts().items():\n",
    "    df2 = df[df[\"body_slip\"] == x]\n",
    "    lat_accel = list(df2[\"vehicle_accelerations_NTB_1\"]/9.81)\n",
    "    yaw_accel = list(df2[\"yaw_acceleration\"])\n",
    "    \n",
    "    #mid_df = df2.iloc[(df2[\"vehicle_accelerations_NTB_1\"]-df2[\"vehicle_accelerations_NTB_1\"].mean()).abs().argsort().iloc[0]]\n",
    "    plt.scatter(lat_accel, yaw_accel, 'r', label = int(x*180/np.pi))\n",
    "    #plt.text(mid_df[\"vehicle_accelerations_NTB_1\"]/9.81, mid_df[\"yaw_acceleration\"], '{0:.1f}'.format(x*180/math.pi), color = 'r')\n",
    "\n",
    "#labelLines(plt.gca().get_lines(),zorder=2)\n",
    "\n",
    "for x, _ in df[\"steered_angle\"].value_counts().items():\n",
    "    if True: #x == 0.0224399475256413:\n",
    "        df2 = df[(df[\"steered_angle\"] == x)]\n",
    "        # for index, row in df2.iterrows():\n",
    "        #     print(row[\"body_slip\"],row[\"vehicle_accelerations_NTB_1\"] )\n",
    "        plt.scatter(df2[\"vehicle_accelerations_NTB_1\"]/9.81, df2[\"yaw_acceleration\"], 'b', label = int(x*180/np.pi))\n",
    "plt.grid()\n",
    "plt.ylabel(\"Yaw Acceleration (rad/s^2)\")\n",
    "plt.xlabel(\"Lateral Acceleration (g)\")\n",
    "plt.title(\"Milliken Moment Method \\n Blue -> Discrete Steered Angle (deg); Red -> Discrete Body Slip (deg)\")\n",
    "#labelLines(plt.gca().get_lines(),zorder=2)"
   ]
  },
  {
   "cell_type": "code",
   "execution_count": null,
   "metadata": {},
   "outputs": [],
   "source": [
    "for tire in tires:\n",
    "    plt.scatter(df[\"vehicle_accelerations_NTB_1\"], df[f\"{tire}_tire_torque\"], label = tire)\n",
    "plt.legend()"
   ]
  },
  {
   "cell_type": "code",
   "execution_count": null,
   "metadata": {},
   "outputs": [],
   "source": [
    "plt.scatter(df[\"vehicle_accelerations_NTB_1\"], df[\"vehicle_accelerations_NTB_0\"])"
   ]
  },
  {
   "cell_type": "code",
   "execution_count": null,
   "metadata": {},
   "outputs": [],
   "source": [
    "fig, axs = plt.subplots(1,3,figsize=(16, 6), dpi=80)\n",
    "\n",
    "for tire in tires:\n",
    "    axs[0].scatter(df[\"vehicle_accelerations_NTB_1\"], df[f\"{tire}_tire_tire_centric_forces_2\"], label = tire)\n",
    "axs[0].set_title(\"Normal Force vs Lateral Accel\")\n",
    "axs[0].grid()\n",
    "axs[0].set_ylabel(\"Normal Force (N)\")\n",
    "axs[0].set_xlabel(\"Lateral Acceleration (m/s^2)\")\n",
    "axs[0].legend()\n",
    "\n",
    "for tire in tires:\n",
    "    axs[1].scatter(df[\"vehicle_accelerations_NTB_1\"], df[f\"{tire}_tire_tire_centric_forces_1\"], label = tire)\n",
    "axs[1].set_title(\"Lateral Force vs Lateral Accel\")\n",
    "axs[1].grid()\n",
    "axs[1].set_ylabel(\"Lateral Force (N)\")\n",
    "axs[1].set_xlabel(\"Lateral Acceleration (m/s^2)\")\n",
    "axs[1].legend()\n",
    "\n",
    "for tire in tires:\n",
    "    axs[2].scatter(df[\"vehicle_accelerations_NTB_1\"], df[f\"{tire}_tire_tire_centric_forces_0\"], label = tire)\n",
    "axs[2].set_title(\"Long Force vs Lateral Accel\")\n",
    "axs[2].grid()\n",
    "axs[2].set_ylabel(\"Long Force (N)\")\n",
    "axs[2].set_xlabel(\"Lateral Acceleration (m/s^2)\")\n",
    "axs[2].legend()"
   ]
  },
  {
   "cell_type": "code",
   "execution_count": null,
   "metadata": {},
   "outputs": [],
   "source": [
    "fig, axs = plt.subplots(1,3,figsize=(16, 6), dpi=80)\n",
    "\n",
    "axs[0].scatter(df['vehicle_accelerations_NTB_1'], df['roll'] * (180 / np.pi))\n",
    "axs[0].set_xlabel(\"Lateral Acceleration (m/s^2)\")\n",
    "axs[0].set_ylabel('Roll Angle (Degrees)')\n",
    "axs[0].set_title(\"Roll Angle vs Lateral Accel\")\n",
    "axs[0].grid()\n",
    "\n",
    "axs[1].scatter(df['vehicle_accelerations_NTB_1'], df['pitch'] * (180 / np.pi))\n",
    "axs[1].set_xlabel(\"Lateral Acceleration (m/s^2)\")\n",
    "axs[1].set_ylabel('Pitch Angle (Degrees)')\n",
    "axs[1].set_title(\"Pitch Angle vs Lateral Accel\")\n",
    "axs[1].grid()\n",
    "\n",
    "axs[2].scatter(df['vehicle_accelerations_NTB_1'], df['heave']/.0254)\n",
    "axs[2].set_xlabel(\"Lateral Acceleration (m/s^2)\")\n",
    "axs[2].set_ylabel('Heave (in)')\n",
    "axs[2].set_title(\"Heave vs Lateral Accel\")\n",
    "axs[2].grid()"
   ]
  },
  {
   "cell_type": "code",
   "execution_count": null,
   "metadata": {},
   "outputs": [],
   "source": [
    "fig, axs = plt.subplots(1,3,figsize=(16, 6), dpi=80)\n",
    "\n",
    "for tire in tires:\n",
    "    axs[0].scatter(df[\"vehicle_accelerations_NTB_1\"], df[f\"{tire}_tire_f_roll\"], label = tire)\n",
    "axs[0].set_title(\"Roll Spring - Normal Force vs Lateral Accel\")\n",
    "axs[0].grid()\n",
    "axs[0].set_ylabel(\"Normal Force Roll (N)\")\n",
    "axs[0].set_xlabel(\"Lateral Acceleration (m/s^2)\")\n",
    "axs[0].legend()\n",
    "\n",
    "for tire in tires:\n",
    "    axs[1].scatter(df[\"vehicle_accelerations_NTB_1\"], df[f\"{tire}_tire_f_heave\"], label = tire)\n",
    "axs[1].set_title(\"Heave Spring- Normal Force vs Lateral Accel\")\n",
    "axs[1].grid()\n",
    "axs[1].set_ylabel(\"Heave Normal Force (N)\")\n",
    "axs[1].set_xlabel(\"Lateral Acceleration (m/s^2)\")\n",
    "axs[1].legend()\n",
    "\n",
    "for tire in tires:\n",
    "    axs[2].scatter(df[\"vehicle_accelerations_NTB_1\"], df[f\"{tire}_tire_f_pitch\"], label = tire)\n",
    "axs[2].set_title(\"Pitch Spring - Normal Force vs Lateral Accel\")\n",
    "axs[2].grid()\n",
    "axs[2].set_ylabel(\"Pitch Normal Force (N)\")\n",
    "axs[2].set_xlabel(\"Lateral Acceleration (m/s^2)\")"
   ]
  },
  {
   "cell_type": "code",
   "execution_count": null,
   "metadata": {},
   "outputs": [],
   "source": [
    "fig, axs = plt.subplots(1,3,figsize=(16, 6), dpi=80)\n",
    "\n",
    "axs[0].scatter(df['vehicle_accelerations_NTB_1'], df['rear_right_tire_slip_angle'] * (180 / np.pi), label='Rear Right')\n",
    "axs[0].scatter(df['vehicle_accelerations_NTB_1'], df['rear_left_tire_slip_angle'] * (180 / np.pi), label='Rear Left')\n",
    "axs[0].scatter(df['vehicle_accelerations_NTB_1'], df['front_right_tire_slip_angle'] * (180 / np.pi), label='Front Right')\n",
    "axs[0].scatter(df['vehicle_accelerations_NTB_1'], df['front_left_tire_slip_angle'] * (180 / np.pi), label='Front Left')\n",
    "axs[0].legend()\n",
    "axs[0].set_xlabel(\"Lateral Acceleration (m/s^2)\")\n",
    "axs[0].set_ylabel('Wheel Slip Angle (Degrees)')\n",
    "axs[0].set_title(\"Slip Angle vs Lateral Accel\")\n",
    "axs[0].grid()\n",
    "\n",
    "axs[1].scatter(df['vehicle_accelerations_NTB_1'], df['rear_right_tire_inclination_angle'] * (180 / np.pi), label='Rear Right')\n",
    "axs[1].scatter(df['vehicle_accelerations_NTB_1'], df['rear_left_tire_inclination_angle'] * (180 / np.pi), label='Rear Left')\n",
    "axs[1].scatter(df['vehicle_accelerations_NTB_1'], df['front_right_tire_inclination_angle'] * (180 / np.pi), label='Front Right')\n",
    "axs[1].scatter(df['vehicle_accelerations_NTB_1'], df['front_left_tire_inclination_angle'] * (180 / np.pi), label='Front Left')\n",
    "axs[1].legend()\n",
    "axs[1].set_xlabel(\"Lateral Acceleration (m/s^2)\")\n",
    "axs[1].set_ylabel('Wheel Inclination Angle (Degrees)')\n",
    "axs[1].set_title(\"IA Angle vs Lateral Accel\")\n",
    "axs[1].grid()\n",
    "\n",
    "axs[2].scatter(df['vehicle_accelerations_NTB_1'], df['rear_right_tire_velocity_0'], label='Rear Right')\n",
    "axs[2].scatter(df['vehicle_accelerations_NTB_1'], df['rear_left_tire_velocity_0'], label='Rear Left')\n",
    "axs[2].scatter(df['vehicle_accelerations_NTB_1'], df['front_right_tire_velocity_0'], label='Front Right')\n",
    "axs[2].scatter(df['vehicle_accelerations_NTB_1'], df['front_left_tire_velocity_0'], label='Front Left')\n",
    "axs[2].legend()\n",
    "axs[2].set_xlabel(\"Lateral Acceleration (m/s^2)\")\n",
    "axs[2].set_ylabel('Tire Velocity (m/s)')\n",
    "axs[2].set_title(\"Wheel Velocity vs Lateral Accel\")\n",
    "axs[2].grid()"
   ]
  },
  {
   "cell_type": "code",
   "execution_count": null,
   "metadata": {},
   "outputs": [],
   "source": [
    "fig, axs = plt.subplots(1,3,figsize=(16, 6), dpi=80)\n",
    "\n",
    "# axs[0].scatter(df[\"vehicle_accelerations_NTB_1\"], df[\"front_left_tire_z_c\"], label = \"Front Right\")\n",
    "# axs[0].scatter(df[\"vehicle_accelerations_NTB_1\"], df[\"front_right_tire_z_c\"], label = \"Front Left\")\n",
    "# axs[0].scatter(df[\"vehicle_accelerations_NTB_1\"], df[\"rear_left_tire_z_c\"], label = \"Rear Right\")\n",
    "# axs[0].scatter(df[\"vehicle_accelerations_NTB_1\"], df[\"rear_right_tire_z_c\"], label = \"Rear Left\")\n",
    "# axs[0].set_title(\"Vertical Chassis Displacement vs Lateral Accel\")\n",
    "# axs[0].grid()\n",
    "# axs[0].set_ylabel(\"Vertical Chassis Displacement (m)\")\n",
    "# axs[0].set_xlabel(\"Lateral Acceleration (m/s^2)\")\n",
    "# axs[0].legend()\n",
    "\n",
    "axs[1].scatter(df['vehicle_accelerations_NTB_1'], df['rear_right_tire_inclination_angle_percent_loss'], label='rr')\n",
    "axs[1].scatter(df['vehicle_accelerations_NTB_1'], df['rear_left_tire_inclination_angle_percent_loss'], label='rl')\n",
    "axs[1].scatter(df['vehicle_accelerations_NTB_1'], df['front_right_tire_inclination_angle_percent_loss'], label='fr')\n",
    "axs[1].scatter(df['vehicle_accelerations_NTB_1'], df['front_left_tire_inclination_angle_percent_loss'], label='fl')\n",
    "axs[1].legend()\n",
    "axs[1].set_xlabel('Lat Accel')\n",
    "axs[1].set_ylabel('Loss Lat Load to IA (%)')\n",
    "axs[1].set_ylim([-0.1,0.3])\n",
    "axs[1].grid()\n",
    "print(df['rear_right_tire_inclination_angle_percent_loss'].mean())\n",
    "print(df['front_right_tire_inclination_angle_percent_loss'].mean())\n",
    "\n",
    "# axs[2].scatter(df[\"vehicle_accelerations_NTB_1\"], df[\"dynamics_total_inclination_angle_percent_loss\"])\n",
    "# axs[2].grid()\n",
    "# print(df['dynamics_total_inclination_angle_percent_loss'].mean())"
   ]
  },
  {
   "cell_type": "code",
   "execution_count": null,
   "metadata": {},
   "outputs": [],
   "source": [
    "x=df[abs(df[\"vehicle_accelerations_NTB_1\"]) == abs(df[\"vehicle_accelerations_NTB_1\"]).max()].iloc[0]\n",
    "# for name, y in x.items():\n",
    "#     print(name + \": \" +str(y))\n",
    "# print(x[\"y_double_dot\"]/9.81)\n",
    "# print(x[\"yaw_acceleration\"])\n",
    "# print(x[\"front_left_f_roll\"])\n",
    "# print(x[\"front_right_f_heave\"]-x[\"front_left_f_heave\"])\n",
    "# print(x[\"rear_right_f_heave\"]-x[\"rear_left_f_heave\"])\n",
    "# print(x[\"roll\"]*180/math.pi)\n",
    "print(x[\"front_left_tire_vehicle_centric_forces_0\"])\n",
    "print(x[\"front_left_tire_vehicle_centric_forces_1\"])\n",
    "print(x[\"front_left_tire_vehicle_centric_forces_2\"])\n",
    "print(x[\"rear_left_tire_vehicle_centric_forces_0\"])\n",
    "print(x[\"rear_left_tire_vehicle_centric_forces_1\"])\n",
    "print(x[\"rear_left_tire_vehicle_centric_forces_2\"])\n",
    "# print(x[\"front_right_tire_centric_forces_2\"])\n",
    "# print(x[\"rear_left_tire_centric_forces_2\"])\n",
    "# print(x[\"rear_right_tire_centric_forces_2\"])\n",
    "# print(x[\"front_left_tire_centric_forces_2\"])\n",
    "# print(x[\"front_right_tire_centric_forces_2\"])\n",
    "# print(x[\"rear_left_tire_centric_forces_2\"])\n",
    "# print(x[\"rear_right_tire_centric_forces_2\"])\n",
    "print(\"Max Lateral Accel:\",x[\"vehicle_accelerations_NTB_1\"])\n",
    "print(\"Associated Turn Radius:\",x[\"vehicle_turn_radius\"])"
   ]
  },
  {
   "cell_type": "code",
   "execution_count": null,
   "metadata": {},
   "outputs": [],
   "source": [
    "temp_df = df[abs(df[\"vehicle_turn_radius\"]) < 1000]\n",
    "plt.scatter(temp_df[\"vehicle_accelerations_NTB_1\"],temp_df[\"vehicle_turn_radius\"])\n",
    "plt.grid()\n",
    "plt.title(\"Turn Radius vs Lateral Accel (constant velocity)\")"
   ]
  },
  {
   "cell_type": "code",
   "execution_count": null,
   "metadata": {},
   "outputs": [],
   "source": [
    "for x in df[\"steered_angle\"].unique():\n",
    "    if True:#x == 0:\n",
    "        df2 = df[(df[\"steered_angle\"] == x)]\n",
    "        plt.plot(df2[\"body_slip\"] * 180/math.pi, df2[\"vehicle_yaw_moment\"]/9.81)\n",
    "plt.xlim([0, 20])\n",
    "plt.title(\"Stability Index - Yaw Moment vs Body Slip (Steered Angle sweep)\")\n",
    "plt.ylabel(\"Yaw Moment (Nm)\")\n",
    "plt.xlabel(\"Body Slip (degrees)\")\n",
    "plt.grid(True)\n",
    "plt.show()"
   ]
  },
  {
   "cell_type": "code",
   "execution_count": null,
   "metadata": {},
   "outputs": [],
   "source": [
    "%cd ..\n",
    "import engine\n",
    "import vehicle_params\n",
    "%cd analysis/\n",
    "vehicle = engine.Vehicle(vehicle_params.EasyDriver())\n",
    "slip_angles = np.linspace(-30, 30, 1000)\n",
    "s = vehicle.suspension\n",
    "for normal_force in np.linspace(10, 2000, 10):\n",
    "    output_force = [vehicle.suspension._Suspension__tires.front_right.lateral_pacejka(0, normal_force, y/180*np.pi) for y in slip_angles]\n",
    "    plt.plot(slip_angles, output_force)\n",
    "plt.grid()"
   ]
  },
  {
   "cell_type": "code",
   "execution_count": null,
   "metadata": {},
   "outputs": [],
   "source": [
    "slip_angles = np.linspace(-30, 30, 1000)\n",
    "for normal_force in np.linspace(10, 2000, 10):\n",
    "    output_force = [vehicle.suspension._Suspension__tires.rear_right.lateral_pacejka(0, normal_force, y/180*np.pi) for y in slip_angles]\n",
    "    plt.plot(slip_angles, output_force)"
   ]
  },
  {
   "cell_type": "code",
   "execution_count": null,
   "metadata": {},
   "outputs": [],
   "source": [
    "#tire.comstock(slip_ratio, slip_angle, normal_force, inclination_angle)\n",
    "\n",
    "#slip_angles = np.linspace(-30, 30, 1000)\n",
    "#for slip_ratio in [0]:#[-.1, -20, -30]:\n",
    "# self, SR, SA, FZ, IA\n",
    "FZ = 1000\n",
    "SA = 18\n",
    "SR = 12\n",
    "IA = 0\n",
    "self = vehicle.suspension._Suspension__tires.front_right\n",
    "#output_force = vehicle.suspension._Suspension__tires.front_right.comstock(12, -18, 1000,0)\n",
    "FX = self.longitudinal_pacejka(FZ, SR)\n",
    "FY = self.lateral_pacejka(IA, FZ, SA)\n",
    "print(FX, FY)\n",
    "\n",
    "Ca = (self.longitudinal_pacejka(FZ, 1) - self.longitudinal_pacejka(FZ, 0)) * (180 / np.pi)\n",
    "Cs = (self.lateral_pacejka(0, FZ, 1) - self.lateral_pacejka(0, FZ, 0)) * 100\n",
    "#     def lateral_pacejka(self, inclination_angle:float, normal_force:float, slip_angle:float):\n",
    "print(Ca, Cs)\n",
    "FY = FY if abs(SA) < 1 else self.com_lat(SA, SR, FX, FY, FZ, IA, Cs)\n",
    "FX = FX if abs(SR) < 1 else self.com_long(SA, SR, FX, FY, FZ, Ca)\n",
    "print(FX, FY)\n",
    "\n",
    "#plt.plot(slip_angles, output_force)"
   ]
  },
  {
   "cell_type": "code",
   "execution_count": null,
   "metadata": {},
   "outputs": [],
   "source": [
    "#temp_df = df[abs(df[\"vehicle_turn_radius\"]) < 1000]\n",
    "plt.scatter(df[\"vehicle_accelerations_NTB_1\"],df[\"front_right_tire_disp\"])\n",
    "plt.scatter(df[\"vehicle_accelerations_NTB_1\"],df[\"front_left_tire_disp\"])\n",
    "plt.scatter(df[\"vehicle_accelerations_NTB_1\"],df[\"rear_right_tire_disp\"])\n",
    "plt.scatter(df[\"vehicle_accelerations_NTB_1\"],df[\"rear_left_tire_disp\"])\n",
    "plt.grid()"
   ]
  },
  {
   "cell_type": "code",
   "execution_count": null,
   "metadata": {},
   "outputs": [],
   "source": [
    "#temp_df = df[abs(df[\"vehicle_turn_radius\"]) < 1000]\n",
    "plt.scatter(df[\"vehicle_accelerations_NTB_1\"],df[\"aero_forces_0\"], label = \"drag\")\n",
    "plt.scatter(df[\"vehicle_accelerations_NTB_1\"],df[\"aero_forces_1\"], label = \"sideforce\")\n",
    "plt.scatter(df[\"vehicle_accelerations_NTB_1\"],df[\"aero_forces_2\"], label = \"downforce\")\n",
    "plt.legend()\n",
    "plt.grid()\n",
    "plt.ylabel(\"Force (N)\")\n",
    "plt.xlabel(\"Lateral Acceleration (m/s^2)\")"
   ]
  },
  {
   "cell_type": "code",
   "execution_count": null,
   "metadata": {},
   "outputs": [],
   "source": [
    "plt.scatter(df[\"body_slip\"]*180/np.pi,df[\"aero_forces_1\"], label = \"sideforce\")\n",
    "plt.grid()\n",
    "plt.ylabel(\"Side Force (N)\")\n",
    "plt.xlabel(\"Body Slip (degs)\")"
   ]
  }
 ],
 "metadata": {
  "kernelspec": {
   "display_name": "Python 3.10.7 64-bit",
   "language": "python",
   "name": "python3"
  },
  "language_info": {
   "codemirror_mode": {
    "name": "ipython",
    "version": 3
   },
   "file_extension": ".py",
   "mimetype": "text/x-python",
   "name": "python",
   "nbconvert_exporter": "python",
   "pygments_lexer": "ipython3",
   "version": "3.10.7"
  },
  "vscode": {
   "interpreter": {
    "hash": "620eb4ed2007402b8563cffe8a138559637e3ee9804a716022abebb97e63d62a"
   }
  }
 },
 "nbformat": 4,
 "nbformat_minor": 1
}
