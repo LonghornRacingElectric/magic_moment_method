{
 "cells": [
  {
   "cell_type": "markdown",
   "metadata": {
    "collapsed": true
   },
   "source": [
    "# Milliken Moment Diagram Analysis\n",
    "\n",
    "Importing necessary libraries"
   ]
  },
  {
   "cell_type": "code",
   "execution_count": 5,
   "metadata": {},
   "outputs": [
    {
     "name": "stdout",
     "output_type": "stream",
     "text": [
      "c:\\Users\\kiera\\Documents\\apersonal_documents\\formula\\JoVogelOverhaul\\engine\\magic_moment_method\n",
      "c:\\Users\\kiera\\Documents\\apersonal_documents\\formula\\JoVogelOverhaul\\engine\\magic_moment_method\\analysis\n"
     ]
    }
   ],
   "source": [
    "import math\n",
    "import numpy as np\n",
    "import pandas as pd\n",
    "import matplotlib.pyplot as plt\n",
    "\n",
    "# TODO: fix this lol\n",
    "%cd ..\n",
    "from helpers.labellines import *\n",
    "%cd analysis/"
   ]
  },
  {
   "cell_type": "markdown",
   "metadata": {},
   "source": [
    "Import generated points & filter garbage points"
   ]
  },
  {
   "cell_type": "code",
   "execution_count": null,
   "metadata": {},
   "outputs": [],
   "source": [
    "df = pd.read_csv(\"MMM.csv\")\n",
    "tires = [\"front_left\", \"front_right\", \"rear_left\", \"rear_right\"]\n",
    "df = df[(df[\"roll\"]*180/np.pi < 3) & (df[\"yaw_acceleration\"] < 100)]\n",
    "for tire in tires:\n",
    "    x = df[f\"{tire}_tire_is_saturated\"]\n",
    "    df = df[(df[f\"{tire}_tire_is_saturated\"] == False) & (df[f\"{tire}_tire_tire_centric_forces_2\"] > 1) & (df[f\"{tire}_tire_tire_centric_forces_2\"] < 4000)]"
   ]
  },
  {
   "cell_type": "markdown",
   "metadata": {},
   "source": [
    "MMD Plot (Note - this really doesnt work when you are sweeping velocities and torque requests)"
   ]
  },
  {
   "cell_type": "code",
   "execution_count": null,
   "metadata": {
    "pycharm": {
     "name": "#%%\n"
    }
   },
   "outputs": [],
   "source": [
    "fig = plt.figure(figsize=(12, 10), dpi=90)\n",
    "ax = fig.add_subplot(111)\n",
    "print(df[\"torque_request\"].value_counts())\n",
    "mmm_df = df[abs(df[\"torque_request\"]-0) < 0.01 ]\n",
    "for x in mmm_df[\"body_slip\"].unique():\n",
    "    df2 = mmm_df[mmm_df[\"body_slip\"] == x]    \n",
    "    plt.plot(df2[\"vehicle_accelerations_NTB_1\"]/9.81, df2[\"yaw_acceleration\"], 'r', label = int(x*180/np.pi))\n",
    "#labelLines(plt.gca().get_lines(),zorder=2)\n",
    "\n",
    "for x in mmm_df[\"steered_angle\"].unique():\n",
    "    df2 = mmm_df[(mmm_df[\"steered_angle\"] == x)]\n",
    "    plt.plot(df2[\"vehicle_accelerations_NTB_1\"]/9.81, df2[\"yaw_acceleration\"], 'b', label = int(x*180/np.pi))\n",
    "#labelLines(plt.gca().get_lines(),zorder=2)\n",
    "\n",
    "plt.grid()\n",
    "plt.ylabel(\"Yaw Acceleration (rad/s^2)\")\n",
    "plt.xlabel(\"Lateral Acceleration (g)\")\n",
    "plt.title(\"Milliken Moment Method \\n Blue -> Discrete Steered Angle (deg); Red -> Discrete Body Slip (deg)\")"
   ]
  },
  {
   "cell_type": "code",
   "execution_count": null,
   "metadata": {},
   "outputs": [],
   "source": [
    "#plt.scatter(df[\"vehicle_accelerations_NTB_1\"], df[\"vehicle_accelerations_NTB_0\"] , c='b')\n",
    "plt.scatter(df[\"vehicle_accelerations_NTB_1\"], df[\"vehicle_accelerations_NTB_0\"] , c=df[\"torque_request\"],cmap=\"viridis\")\n",
    "# plt.scatter(-df[\"vehicle_accelerations_NTB_1\"], df[\"vehicle_accelerations_NTB_0\"], c='b')\n",
    "plt.title(\"g-g Diagram\")\n",
    "plt.ylabel(\"Long Acceleration (m/s^2)\")\n",
    "plt.xlabel(\"Lateral Acceleration (m/s^2)\")\n",
    "plt.grid()"
   ]
  },
  {
   "cell_type": "code",
   "execution_count": null,
   "metadata": {},
   "outputs": [],
   "source": [
    "plt.scatter(df[\"vehicle_accelerations_NTB_1\"], df[\"vehicle_accelerations_NTB_0\"] , c=df[\"brake_torques_0\"],cmap=\"viridis\")\n",
    "plt.title(\"g-g Diagram\")\n",
    "plt.ylabel(\"Long Acceleration (m/s^2)\")\n",
    "plt.xlabel(\"Lateral Acceleration (m/s^2)\")\n",
    "plt.grid()"
   ]
  },
  {
   "cell_type": "code",
   "execution_count": null,
   "metadata": {},
   "outputs": [],
   "source": [
    "from scipy.spatial import ConvexHull, convex_hull_plot_2d\n",
    "temp_df = df[abs(df[\"vehicle_accelerations_NTB_1\"]) < 12]\n",
    "points = temp_df[[\"vehicle_accelerations_NTB_1\",\"vehicle_accelerations_NTB_0\"]].to_numpy()\n",
    "hull = ConvexHull(points)\n",
    "x = np.transpose(points)\n",
    "plt.plot(points[hull.vertices,0], points[hull.vertices,1], 'r--', lw=2)\n",
    "plt.plot(points[hull.vertices[0],0], points[hull.vertices[0],1], 'ro')\n",
    "plt.scatter(x[0], x[1])\n",
    "plt.show()\n",
    "\n",
    "new_df = temp_df.iloc[hull.vertices]"
   ]
  },
  {
   "cell_type": "code",
   "execution_count": null,
   "metadata": {},
   "outputs": [],
   "source": [
    "plt.scatter(new_df[\"torque_request\"], new_df[\"vehicle_accelerations_NTB_0\"], s=10)\n",
    "plt.grid()"
   ]
  },
  {
   "cell_type": "code",
   "execution_count": null,
   "metadata": {},
   "outputs": [],
   "source": [
    "plt.scatter(df[\"torque_request\"], df[\"vehicle_accelerations_NTB_1\"], s=10)\n",
    "plt.grid()"
   ]
  },
  {
   "cell_type": "code",
   "execution_count": null,
   "metadata": {},
   "outputs": [],
   "source": [
    "fig, axs = plt.subplots(1,3,figsize=(16, 6), dpi=80)\n",
    "for tire in tires:\n",
    "    axs[0].scatter(df[\"vehicle_accelerations_NTB_1\"], df[f\"{tire}_tire_tire_centric_forces_2\"], label = tire)\n",
    "axs[0].set_title(\"Normal Force vs Lateral Accel\")\n",
    "axs[0].grid()\n",
    "axs[0].set_ylabel(\"Normal Force (N)\")\n",
    "axs[0].set_xlabel(\"Lateral Acceleration (m/s^2)\")\n",
    "axs[0].legend()\n",
    "\n",
    "for tire in tires:\n",
    "    axs[1].scatter(df[\"vehicle_accelerations_NTB_1\"], df[f\"{tire}_tire_tire_centric_forces_1\"], label = tire)\n",
    "axs[1].set_title(\"Lateral Force vs Lateral Accel\")\n",
    "axs[1].grid()\n",
    "axs[1].set_ylabel(\"Lateral Force (N)\")\n",
    "axs[1].set_xlabel(\"Lateral Acceleration (m/s^2)\")\n",
    "axs[1].legend()\n",
    "\n",
    "for tire in tires:\n",
    "    axs[2].scatter(df[\"vehicle_accelerations_NTB_1\"], df[f\"{tire}_tire_tire_centric_forces_0\"], label = tire)\n",
    "axs[2].set_title(\"Long Force vs Lateral Accel\")\n",
    "axs[2].grid()\n",
    "axs[2].set_ylabel(\"Long Force (N)\")\n",
    "axs[2].set_xlabel(\"Lateral Acceleration (m/s^2)\")\n",
    "axs[2].legend()"
   ]
  },
  {
   "cell_type": "code",
   "execution_count": null,
   "metadata": {},
   "outputs": [],
   "source": [
    "fig, axs = plt.subplots(1,3,figsize=(16, 6), dpi=80)\n",
    "\n",
    "axs[0].scatter(df['vehicle_accelerations_NTB_1'], df['roll'] * (180 / np.pi))\n",
    "axs[0].set_xlabel(\"Lateral Acceleration (m/s^2)\")\n",
    "axs[0].set_ylabel('Roll Angle (Degrees)')\n",
    "axs[0].set_title(\"Roll Angle vs Lateral Accel\")\n",
    "axs[0].grid()\n",
    "\n",
    "axs[1].scatter(df['vehicle_accelerations_NTB_1'], df['pitch'] * (180 / np.pi))\n",
    "axs[1].set_xlabel(\"Lateral Acceleration (m/s^2)\")\n",
    "axs[1].set_ylabel('Pitch Angle (Degrees)')\n",
    "axs[1].set_title(\"Pitch Angle vs Lateral Accel\")\n",
    "axs[1].grid()\n",
    "\n",
    "axs[2].scatter(df['vehicle_accelerations_NTB_1'], df['heave']/.0254)\n",
    "axs[2].set_xlabel(\"Lateral Acceleration (m/s^2)\")\n",
    "axs[2].set_ylabel('Heave (in)')\n",
    "axs[2].set_title(\"Heave vs Lateral Accel\")\n",
    "axs[2].grid()"
   ]
  },
  {
   "cell_type": "code",
   "execution_count": null,
   "metadata": {},
   "outputs": [],
   "source": [
    "fig, axs = plt.subplots(1,3,figsize=(16, 6), dpi=80)\n",
    "\n",
    "for tire in tires:\n",
    "    axs[0].scatter(df[\"vehicle_accelerations_NTB_1\"], df[f\"{tire}_tire_f_roll\"], label = tire)\n",
    "axs[0].set_title(\"Roll Spring - Normal Force vs Lateral Accel\")\n",
    "axs[0].grid()\n",
    "axs[0].set_ylabel(\"Normal Force Roll (N)\")\n",
    "axs[0].set_xlabel(\"Lateral Acceleration (m/s^2)\")\n",
    "axs[0].legend()\n",
    "\n",
    "for tire in tires:\n",
    "    axs[1].scatter(df[\"vehicle_accelerations_NTB_1\"], df[f\"{tire}_tire_f_heave\"], label = tire)\n",
    "axs[1].set_title(\"Heave Spring- Normal Force vs Lateral Accel\")\n",
    "axs[1].grid()\n",
    "axs[1].set_ylabel(\"Heave Normal Force (N)\")\n",
    "axs[1].set_xlabel(\"Lateral Acceleration (m/s^2)\")\n",
    "axs[1].legend()\n",
    "\n",
    "for tire in tires:\n",
    "    axs[2].scatter(df[\"vehicle_accelerations_NTB_1\"], df[f\"{tire}_tire_f_pitch\"], label = tire)\n",
    "axs[2].set_title(\"Pitch Spring - Normal Force vs Lateral Accel\")\n",
    "axs[2].grid()\n",
    "axs[2].set_ylabel(\"Pitch Normal Force (N)\")\n",
    "axs[2].set_xlabel(\"Lateral Acceleration (m/s^2)\")\n",
    "axs[2].legend()"
   ]
  },
  {
   "cell_type": "code",
   "execution_count": null,
   "metadata": {},
   "outputs": [],
   "source": [
    "fig, axs = plt.subplots(1,4,figsize=(16, 6), dpi=80)\n",
    "\n",
    "axs[0].scatter(df['vehicle_accelerations_NTB_1'], df['rear_right_tire_slip_angle'] * (180 / np.pi), label='Rear Right')\n",
    "axs[0].scatter(df['vehicle_accelerations_NTB_1'], df['rear_left_tire_slip_angle'] * (180 / np.pi), label='Rear Left')\n",
    "axs[0].scatter(df['vehicle_accelerations_NTB_1'], df['front_right_tire_slip_angle'] * (180 / np.pi), label='Front Right')\n",
    "axs[0].scatter(df['vehicle_accelerations_NTB_1'], df['front_left_tire_slip_angle'] * (180 / np.pi), label='Front Left')\n",
    "axs[0].legend()\n",
    "axs[0].set_xlabel(\"Lateral Acceleration (m/s^2)\")\n",
    "axs[0].set_ylabel('Wheel Slip Angle (Degrees)')\n",
    "axs[0].set_title(\"Slip Angle vs Lateral Accel\")\n",
    "axs[0].grid()\n",
    "\n",
    "axs[1].scatter(df['vehicle_accelerations_NTB_1'], df['rear_right_tire_inclination_angle'] * (180 / np.pi), label='Rear Right')\n",
    "axs[1].scatter(df['vehicle_accelerations_NTB_1'], df['rear_left_tire_inclination_angle'] * (180 / np.pi), label='Rear Left')\n",
    "axs[1].scatter(df['vehicle_accelerations_NTB_1'], df['front_right_tire_inclination_angle'] * (180 / np.pi), label='Front Right')\n",
    "axs[1].scatter(df['vehicle_accelerations_NTB_1'], df['front_left_tire_inclination_angle'] * (180 / np.pi), label='Front Left')\n",
    "axs[1].legend()\n",
    "axs[1].set_xlabel(\"Lateral Acceleration (m/s^2)\")\n",
    "axs[1].set_ylabel('Wheel Inclination Angle (Degrees)')\n",
    "axs[1].set_title(\"IA Angle vs Lateral Accel\")\n",
    "axs[1].grid()\n",
    "\n",
    "axs[2].scatter(df['vehicle_accelerations_NTB_1'], df['rear_right_tire_velocity_0'], label='Rear Right')\n",
    "axs[2].scatter(df['vehicle_accelerations_NTB_1'], df['rear_left_tire_velocity_0'], label='Rear Left')\n",
    "axs[2].scatter(df['vehicle_accelerations_NTB_1'], df['front_right_tire_velocity_0'], label='Front Right')\n",
    "axs[2].scatter(df['vehicle_accelerations_NTB_1'], df['front_left_tire_velocity_0'], label='Front Left')\n",
    "axs[2].legend()\n",
    "axs[2].set_xlabel(\"Lateral Acceleration (m/s^2)\")\n",
    "axs[2].set_ylabel('Tire Velocity (m/s)')\n",
    "axs[2].set_title(\"Tire Velocity vs Lateral Accel\")\n",
    "axs[2].grid()\n",
    "\n",
    "axs[3].scatter(df['vehicle_accelerations_NTB_1'], df['rear_right_slip_ratio'], label='Rear Right')\n",
    "axs[3].scatter(df['vehicle_accelerations_NTB_1'], df['rear_left_slip_ratio'], label='Rear Left')\n",
    "axs[3].scatter(df['vehicle_accelerations_NTB_1'], df['front_right_slip_ratio'], label='Front Right')\n",
    "axs[3].scatter(df['vehicle_accelerations_NTB_1'], df['front_left_slip_ratio'], label='Front Left')\n",
    "axs[3].legend()\n",
    "axs[3].set_xlabel(\"Lateral Acceleration (m/s^2)\")\n",
    "axs[3].set_ylabel('Tire Slip Ratio (%)')\n",
    "axs[3].set_title(\"Tire Slip Ratio vs Lateral Accel\")\n",
    "axs[3].grid()"
   ]
  },
  {
   "cell_type": "code",
   "execution_count": null,
   "metadata": {},
   "outputs": [],
   "source": [
    "temp_df = df[abs(df[\"vehicle_turn_radius\"]) < 1000]\n",
    "plt.scatter(temp_df[\"vehicle_accelerations_NTB_1\"],temp_df[\"vehicle_turn_radius\"])\n",
    "plt.grid()\n",
    "plt.title(\"Turn Radius vs Lateral Accel (constant velocity)\")"
   ]
  },
  {
   "cell_type": "code",
   "execution_count": null,
   "metadata": {},
   "outputs": [],
   "source": [
    "for x in df[\"steered_angle\"].unique():\n",
    "    if True:#x == 0:\n",
    "        df2 = df[(df[\"steered_angle\"] == x)]\n",
    "        plt.plot(df2[\"body_slip\"] * 180/math.pi, df2[\"vehicle_yaw_moment\"]/9.81)\n",
    "plt.xlim([0, 20])\n",
    "plt.title(\"Stability Index - Yaw Moment vs Body Slip (Steered Angle sweep)\")\n",
    "plt.ylabel(\"Yaw Moment (Nm)\")\n",
    "plt.xlabel(\"Body Slip (degrees)\")\n",
    "plt.grid(True)\n",
    "plt.show()"
   ]
  },
  {
   "cell_type": "code",
   "execution_count": null,
   "metadata": {},
   "outputs": [],
   "source": [
    "%cd ..\n",
    "import engine\n",
    "import vehicle_params\n",
    "%cd analysis/\n",
    "vehicle = engine.Vehicle(vehicle_params.EasyDriver())\n",
    "slip_angles = np.linspace(-30, 30, 1000)\n",
    "s = vehicle.suspension\n",
    "for normal_force in np.linspace(10, 2000, 10):\n",
    "    output_force = [vehicle.suspension._Suspension__tires.front_right.lateral_pacejka(0, normal_force, y/180*np.pi) for y in slip_angles]\n",
    "    plt.plot(slip_angles, output_force)\n",
    "plt.grid()\n",
    "plt.title(\"Front Tire - Lateral Fit\")"
   ]
  },
  {
   "cell_type": "code",
   "execution_count": null,
   "metadata": {},
   "outputs": [],
   "source": [
    "slip_angles = np.linspace(-30, 30, 1000)\n",
    "for normal_force in np.linspace(10, 2000, 10):\n",
    "    output_force = [vehicle.suspension._Suspension__tires.rear_right.lateral_pacejka(0, normal_force, y/180*np.pi) for y in slip_angles]\n",
    "    plt.plot(slip_angles, output_force)"
   ]
  },
  {
   "cell_type": "code",
   "execution_count": null,
   "metadata": {},
   "outputs": [],
   "source": [
    "#temp_df = df[abs(df[\"vehicle_turn_radius\"]) < 1000]\n",
    "plt.scatter(df[\"vehicle_accelerations_NTB_1\"],df[\"front_right_tire_disp\"])\n",
    "plt.scatter(df[\"vehicle_accelerations_NTB_1\"],df[\"front_left_tire_disp\"])\n",
    "plt.scatter(df[\"vehicle_accelerations_NTB_1\"],df[\"rear_right_tire_disp\"])\n",
    "plt.scatter(df[\"vehicle_accelerations_NTB_1\"],df[\"rear_left_tire_disp\"])\n",
    "plt.grid()"
   ]
  },
  {
   "cell_type": "code",
   "execution_count": null,
   "metadata": {},
   "outputs": [],
   "source": [
    "plt.scatter(df[\"vehicle_accelerations_NTB_1\"],df[\"aero_forces_0\"], label = \"drag\")\n",
    "plt.scatter(df[\"vehicle_accelerations_NTB_1\"],df[\"aero_forces_1\"], label = \"sideforce\")\n",
    "plt.scatter(df[\"vehicle_accelerations_NTB_1\"],df[\"aero_forces_2\"], label = \"downforce\")\n",
    "plt.legend()\n",
    "plt.grid()\n",
    "plt.ylabel(\"Force (N)\")\n",
    "plt.xlabel(\"Lateral Acceleration (m/s^2)\")"
   ]
  },
  {
   "cell_type": "code",
   "execution_count": null,
   "metadata": {},
   "outputs": [],
   "source": [
    "plt.scatter(df[\"body_slip\"]*180/np.pi,df[\"aero_forces_1\"], label = \"sideforce\")\n",
    "plt.grid()\n",
    "plt.ylabel(\"Side Force (N)\")\n",
    "plt.xlabel(\"Body Slip (degs)\")"
   ]
  }
 ],
 "metadata": {
  "kernelspec": {
   "display_name": "Python 3.10.7 64-bit",
   "language": "python",
   "name": "python3"
  },
  "language_info": {
   "codemirror_mode": {
    "name": "ipython",
    "version": 3
   },
   "file_extension": ".py",
   "mimetype": "text/x-python",
   "name": "python",
   "nbconvert_exporter": "python",
   "pygments_lexer": "ipython3",
   "version": "3.10.7"
  },
  "vscode": {
   "interpreter": {
    "hash": "620eb4ed2007402b8563cffe8a138559637e3ee9804a716022abebb97e63d62a"
   }
  }
 },
 "nbformat": 4,
 "nbformat_minor": 1
}
