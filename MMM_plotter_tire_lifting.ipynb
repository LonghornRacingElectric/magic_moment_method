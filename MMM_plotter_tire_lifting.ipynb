{
 "cells": [
  {
   "cell_type": "code",
   "execution_count": 14,
   "metadata": {},
   "outputs": [],
   "source": [
    "import math\n",
    "import numpy as np\n",
    "import pandas as pd\n",
    "import matplotlib.pyplot as plt"
   ]
  },
  {
   "cell_type": "code",
   "execution_count": 15,
   "metadata": {
    "pycharm": {
     "name": "#%%\n"
    }
   },
   "outputs": [
    {
     "ename": "FileNotFoundError",
     "evalue": "[Errno 2] No such file or directory: 'MMM_lifting.csv'",
     "output_type": "error",
     "traceback": [
      "\u001b[1;31m---------------------------------------------------------------------------\u001b[0m",
      "\u001b[1;31mFileNotFoundError\u001b[0m                         Traceback (most recent call last)",
      "\u001b[1;32m<ipython-input-15-d207d4119a16>\u001b[0m in \u001b[0;36m<module>\u001b[1;34m\u001b[0m\n\u001b[1;32m----> 1\u001b[1;33m \u001b[0mdf\u001b[0m \u001b[1;33m=\u001b[0m \u001b[0mpd\u001b[0m\u001b[1;33m.\u001b[0m\u001b[0mread_csv\u001b[0m\u001b[1;33m(\u001b[0m\u001b[1;34m\"MMM_lifting.csv\"\u001b[0m\u001b[1;33m)\u001b[0m\u001b[1;33m\u001b[0m\u001b[1;33m\u001b[0m\u001b[0m\n\u001b[0m\u001b[0;32m      2\u001b[0m \u001b[1;33m\u001b[0m\u001b[0m\n\u001b[0;32m      3\u001b[0m \u001b[0mfig\u001b[0m \u001b[1;33m=\u001b[0m \u001b[0mplt\u001b[0m\u001b[1;33m.\u001b[0m\u001b[0mfigure\u001b[0m\u001b[1;33m(\u001b[0m\u001b[0mfigsize\u001b[0m\u001b[1;33m=\u001b[0m\u001b[1;33m(\u001b[0m\u001b[1;36m8\u001b[0m\u001b[1;33m,\u001b[0m \u001b[1;36m6\u001b[0m\u001b[1;33m)\u001b[0m\u001b[1;33m,\u001b[0m \u001b[0mdpi\u001b[0m\u001b[1;33m=\u001b[0m\u001b[1;36m100\u001b[0m\u001b[1;33m)\u001b[0m\u001b[1;33m\u001b[0m\u001b[1;33m\u001b[0m\u001b[0m\n\u001b[0;32m      4\u001b[0m \u001b[0max\u001b[0m \u001b[1;33m=\u001b[0m \u001b[0mfig\u001b[0m\u001b[1;33m.\u001b[0m\u001b[0madd_subplot\u001b[0m\u001b[1;33m(\u001b[0m\u001b[1;36m111\u001b[0m\u001b[1;33m)\u001b[0m\u001b[1;33m\u001b[0m\u001b[1;33m\u001b[0m\u001b[0m\n\u001b[0;32m      5\u001b[0m \u001b[1;33m\u001b[0m\u001b[0m\n",
      "\u001b[1;32m~\\AppData\\Roaming\\Python\\Python38\\site-packages\\pandas\\io\\parsers.py\u001b[0m in \u001b[0;36mread_csv\u001b[1;34m(filepath_or_buffer, sep, delimiter, header, names, index_col, usecols, squeeze, prefix, mangle_dupe_cols, dtype, engine, converters, true_values, false_values, skipinitialspace, skiprows, skipfooter, nrows, na_values, keep_default_na, na_filter, verbose, skip_blank_lines, parse_dates, infer_datetime_format, keep_date_col, date_parser, dayfirst, cache_dates, iterator, chunksize, compression, thousands, decimal, lineterminator, quotechar, quoting, doublequote, escapechar, comment, encoding, dialect, error_bad_lines, warn_bad_lines, delim_whitespace, low_memory, memory_map, float_precision, storage_options)\u001b[0m\n\u001b[0;32m    608\u001b[0m     \u001b[0mkwds\u001b[0m\u001b[1;33m.\u001b[0m\u001b[0mupdate\u001b[0m\u001b[1;33m(\u001b[0m\u001b[0mkwds_defaults\u001b[0m\u001b[1;33m)\u001b[0m\u001b[1;33m\u001b[0m\u001b[1;33m\u001b[0m\u001b[0m\n\u001b[0;32m    609\u001b[0m \u001b[1;33m\u001b[0m\u001b[0m\n\u001b[1;32m--> 610\u001b[1;33m     \u001b[1;32mreturn\u001b[0m \u001b[0m_read\u001b[0m\u001b[1;33m(\u001b[0m\u001b[0mfilepath_or_buffer\u001b[0m\u001b[1;33m,\u001b[0m \u001b[0mkwds\u001b[0m\u001b[1;33m)\u001b[0m\u001b[1;33m\u001b[0m\u001b[1;33m\u001b[0m\u001b[0m\n\u001b[0m\u001b[0;32m    611\u001b[0m \u001b[1;33m\u001b[0m\u001b[0m\n\u001b[0;32m    612\u001b[0m \u001b[1;33m\u001b[0m\u001b[0m\n",
      "\u001b[1;32m~\\AppData\\Roaming\\Python\\Python38\\site-packages\\pandas\\io\\parsers.py\u001b[0m in \u001b[0;36m_read\u001b[1;34m(filepath_or_buffer, kwds)\u001b[0m\n\u001b[0;32m    460\u001b[0m \u001b[1;33m\u001b[0m\u001b[0m\n\u001b[0;32m    461\u001b[0m     \u001b[1;31m# Create the parser.\u001b[0m\u001b[1;33m\u001b[0m\u001b[1;33m\u001b[0m\u001b[1;33m\u001b[0m\u001b[0m\n\u001b[1;32m--> 462\u001b[1;33m     \u001b[0mparser\u001b[0m \u001b[1;33m=\u001b[0m \u001b[0mTextFileReader\u001b[0m\u001b[1;33m(\u001b[0m\u001b[0mfilepath_or_buffer\u001b[0m\u001b[1;33m,\u001b[0m \u001b[1;33m**\u001b[0m\u001b[0mkwds\u001b[0m\u001b[1;33m)\u001b[0m\u001b[1;33m\u001b[0m\u001b[1;33m\u001b[0m\u001b[0m\n\u001b[0m\u001b[0;32m    463\u001b[0m \u001b[1;33m\u001b[0m\u001b[0m\n\u001b[0;32m    464\u001b[0m     \u001b[1;32mif\u001b[0m \u001b[0mchunksize\u001b[0m \u001b[1;32mor\u001b[0m \u001b[0miterator\u001b[0m\u001b[1;33m:\u001b[0m\u001b[1;33m\u001b[0m\u001b[1;33m\u001b[0m\u001b[0m\n",
      "\u001b[1;32m~\\AppData\\Roaming\\Python\\Python38\\site-packages\\pandas\\io\\parsers.py\u001b[0m in \u001b[0;36m__init__\u001b[1;34m(self, f, engine, **kwds)\u001b[0m\n\u001b[0;32m    817\u001b[0m             \u001b[0mself\u001b[0m\u001b[1;33m.\u001b[0m\u001b[0moptions\u001b[0m\u001b[1;33m[\u001b[0m\u001b[1;34m\"has_index_names\"\u001b[0m\u001b[1;33m]\u001b[0m \u001b[1;33m=\u001b[0m \u001b[0mkwds\u001b[0m\u001b[1;33m[\u001b[0m\u001b[1;34m\"has_index_names\"\u001b[0m\u001b[1;33m]\u001b[0m\u001b[1;33m\u001b[0m\u001b[1;33m\u001b[0m\u001b[0m\n\u001b[0;32m    818\u001b[0m \u001b[1;33m\u001b[0m\u001b[0m\n\u001b[1;32m--> 819\u001b[1;33m         \u001b[0mself\u001b[0m\u001b[1;33m.\u001b[0m\u001b[0m_engine\u001b[0m \u001b[1;33m=\u001b[0m \u001b[0mself\u001b[0m\u001b[1;33m.\u001b[0m\u001b[0m_make_engine\u001b[0m\u001b[1;33m(\u001b[0m\u001b[0mself\u001b[0m\u001b[1;33m.\u001b[0m\u001b[0mengine\u001b[0m\u001b[1;33m)\u001b[0m\u001b[1;33m\u001b[0m\u001b[1;33m\u001b[0m\u001b[0m\n\u001b[0m\u001b[0;32m    820\u001b[0m \u001b[1;33m\u001b[0m\u001b[0m\n\u001b[0;32m    821\u001b[0m     \u001b[1;32mdef\u001b[0m \u001b[0mclose\u001b[0m\u001b[1;33m(\u001b[0m\u001b[0mself\u001b[0m\u001b[1;33m)\u001b[0m\u001b[1;33m:\u001b[0m\u001b[1;33m\u001b[0m\u001b[1;33m\u001b[0m\u001b[0m\n",
      "\u001b[1;32m~\\AppData\\Roaming\\Python\\Python38\\site-packages\\pandas\\io\\parsers.py\u001b[0m in \u001b[0;36m_make_engine\u001b[1;34m(self, engine)\u001b[0m\n\u001b[0;32m   1048\u001b[0m             )\n\u001b[0;32m   1049\u001b[0m         \u001b[1;31m# error: Too many arguments for \"ParserBase\"\u001b[0m\u001b[1;33m\u001b[0m\u001b[1;33m\u001b[0m\u001b[1;33m\u001b[0m\u001b[0m\n\u001b[1;32m-> 1050\u001b[1;33m         \u001b[1;32mreturn\u001b[0m \u001b[0mmapping\u001b[0m\u001b[1;33m[\u001b[0m\u001b[0mengine\u001b[0m\u001b[1;33m]\u001b[0m\u001b[1;33m(\u001b[0m\u001b[0mself\u001b[0m\u001b[1;33m.\u001b[0m\u001b[0mf\u001b[0m\u001b[1;33m,\u001b[0m \u001b[1;33m**\u001b[0m\u001b[0mself\u001b[0m\u001b[1;33m.\u001b[0m\u001b[0moptions\u001b[0m\u001b[1;33m)\u001b[0m  \u001b[1;31m# type: ignore[call-arg]\u001b[0m\u001b[1;33m\u001b[0m\u001b[1;33m\u001b[0m\u001b[0m\n\u001b[0m\u001b[0;32m   1051\u001b[0m \u001b[1;33m\u001b[0m\u001b[0m\n\u001b[0;32m   1052\u001b[0m     \u001b[1;32mdef\u001b[0m \u001b[0m_failover_to_python\u001b[0m\u001b[1;33m(\u001b[0m\u001b[0mself\u001b[0m\u001b[1;33m)\u001b[0m\u001b[1;33m:\u001b[0m\u001b[1;33m\u001b[0m\u001b[1;33m\u001b[0m\u001b[0m\n",
      "\u001b[1;32m~\\AppData\\Roaming\\Python\\Python38\\site-packages\\pandas\\io\\parsers.py\u001b[0m in \u001b[0;36m__init__\u001b[1;34m(self, src, **kwds)\u001b[0m\n\u001b[0;32m   1865\u001b[0m \u001b[1;33m\u001b[0m\u001b[0m\n\u001b[0;32m   1866\u001b[0m         \u001b[1;31m# open handles\u001b[0m\u001b[1;33m\u001b[0m\u001b[1;33m\u001b[0m\u001b[1;33m\u001b[0m\u001b[0m\n\u001b[1;32m-> 1867\u001b[1;33m         \u001b[0mself\u001b[0m\u001b[1;33m.\u001b[0m\u001b[0m_open_handles\u001b[0m\u001b[1;33m(\u001b[0m\u001b[0msrc\u001b[0m\u001b[1;33m,\u001b[0m \u001b[0mkwds\u001b[0m\u001b[1;33m)\u001b[0m\u001b[1;33m\u001b[0m\u001b[1;33m\u001b[0m\u001b[0m\n\u001b[0m\u001b[0;32m   1868\u001b[0m         \u001b[1;32massert\u001b[0m \u001b[0mself\u001b[0m\u001b[1;33m.\u001b[0m\u001b[0mhandles\u001b[0m \u001b[1;32mis\u001b[0m \u001b[1;32mnot\u001b[0m \u001b[1;32mNone\u001b[0m\u001b[1;33m\u001b[0m\u001b[1;33m\u001b[0m\u001b[0m\n\u001b[0;32m   1869\u001b[0m         \u001b[1;32mfor\u001b[0m \u001b[0mkey\u001b[0m \u001b[1;32min\u001b[0m \u001b[1;33m(\u001b[0m\u001b[1;34m\"storage_options\"\u001b[0m\u001b[1;33m,\u001b[0m \u001b[1;34m\"encoding\"\u001b[0m\u001b[1;33m,\u001b[0m \u001b[1;34m\"memory_map\"\u001b[0m\u001b[1;33m,\u001b[0m \u001b[1;34m\"compression\"\u001b[0m\u001b[1;33m)\u001b[0m\u001b[1;33m:\u001b[0m\u001b[1;33m\u001b[0m\u001b[1;33m\u001b[0m\u001b[0m\n",
      "\u001b[1;32m~\\AppData\\Roaming\\Python\\Python38\\site-packages\\pandas\\io\\parsers.py\u001b[0m in \u001b[0;36m_open_handles\u001b[1;34m(self, src, kwds)\u001b[0m\n\u001b[0;32m   1360\u001b[0m         \u001b[0mLet\u001b[0m \u001b[0mthe\u001b[0m \u001b[0mreaders\u001b[0m \u001b[0mopen\u001b[0m \u001b[0mIOHanldes\u001b[0m \u001b[0mafter\u001b[0m \u001b[0mthey\u001b[0m \u001b[0mare\u001b[0m \u001b[0mdone\u001b[0m \u001b[1;32mwith\u001b[0m \u001b[0mtheir\u001b[0m \u001b[0mpotential\u001b[0m \u001b[0mraises\u001b[0m\u001b[1;33m.\u001b[0m\u001b[1;33m\u001b[0m\u001b[1;33m\u001b[0m\u001b[0m\n\u001b[0;32m   1361\u001b[0m         \"\"\"\n\u001b[1;32m-> 1362\u001b[1;33m         self.handles = get_handle(\n\u001b[0m\u001b[0;32m   1363\u001b[0m             \u001b[0msrc\u001b[0m\u001b[1;33m,\u001b[0m\u001b[1;33m\u001b[0m\u001b[1;33m\u001b[0m\u001b[0m\n\u001b[0;32m   1364\u001b[0m             \u001b[1;34m\"r\"\u001b[0m\u001b[1;33m,\u001b[0m\u001b[1;33m\u001b[0m\u001b[1;33m\u001b[0m\u001b[0m\n",
      "\u001b[1;32m~\\AppData\\Roaming\\Python\\Python38\\site-packages\\pandas\\io\\common.py\u001b[0m in \u001b[0;36mget_handle\u001b[1;34m(path_or_buf, mode, encoding, compression, memory_map, is_text, errors, storage_options)\u001b[0m\n\u001b[0;32m    640\u001b[0m                 \u001b[0merrors\u001b[0m \u001b[1;33m=\u001b[0m \u001b[1;34m\"replace\"\u001b[0m\u001b[1;33m\u001b[0m\u001b[1;33m\u001b[0m\u001b[0m\n\u001b[0;32m    641\u001b[0m             \u001b[1;31m# Encoding\u001b[0m\u001b[1;33m\u001b[0m\u001b[1;33m\u001b[0m\u001b[1;33m\u001b[0m\u001b[0m\n\u001b[1;32m--> 642\u001b[1;33m             handle = open(\n\u001b[0m\u001b[0;32m    643\u001b[0m                 \u001b[0mhandle\u001b[0m\u001b[1;33m,\u001b[0m\u001b[1;33m\u001b[0m\u001b[1;33m\u001b[0m\u001b[0m\n\u001b[0;32m    644\u001b[0m                 \u001b[0mioargs\u001b[0m\u001b[1;33m.\u001b[0m\u001b[0mmode\u001b[0m\u001b[1;33m,\u001b[0m\u001b[1;33m\u001b[0m\u001b[1;33m\u001b[0m\u001b[0m\n",
      "\u001b[1;31mFileNotFoundError\u001b[0m: [Errno 2] No such file or directory: 'MMM_lifting.csv'"
     ]
    }
   ],
   "source": [
    "df = pd.read_csv(\"MMM_lifting.csv\")\n",
    "\n",
    "fig = plt.figure(figsize=(8, 6), dpi=100)\n",
    "ax = fig.add_subplot(111)\n",
    "\n",
    "for x in df[\"body_slip\"].unique():\n",
    "    df2 = df[df[\"body_slip\"] == x]\n",
    "    lat_accel = list(df2[\"vehicle_accelerations_NTB_1\"]/9.81)\n",
    "    yaw_accel = list(df2[\"yaw_acceleration\"])\n",
    "    mid_point = int(len(lat_accel)/2)\n",
    "\n",
    "    ax.plot(lat_accel, yaw_accel, 'r')\n",
    "    #ax.text(lat_accel[mid_point], yaw_accel[mid_point], '{0:.2f}'.format(x*180/math.pi))\n",
    "\n",
    "for x in df[\"steered_angle\"].unique():\n",
    "    if True:#x == 0:\n",
    "        df2 = df[(df[\"steered_angle\"] == x)]\n",
    "        ax.plot(df2[\"vehicle_accelerations_NTB_1\"]/9.81, df2[\"yaw_acceleration\"], 'b')\n",
    "ax.grid()\n",
    "ax.set_ylabel(\"Yaw Acceleration (rad/s^2)\")\n",
    "ax.set_xlabel(\"Lateral Acceleration (g)\")\n",
    "\n",
    "abs(df[\"yaw_acceleration\"]).min()"
   ]
  },
  {
   "cell_type": "code",
   "execution_count": null,
   "metadata": {},
   "outputs": [],
   "source": [
    "import math\n",
    "plt.scatter(df[\"vehicle_accelerations_NTB_1\"], df[\"front_left_tire_tire_centric_forces_2\"], label = \"Front Right\")\n",
    "plt.scatter(df[\"vehicle_accelerations_NTB_1\"], df[\"front_right_tire_tire_centric_forces_2\"], label = \"Front Left\")\n",
    "plt.scatter(df[\"vehicle_accelerations_NTB_1\"], df[\"rear_left_tire_tire_centric_forces_2\"], label = \"Rear Right\")\n",
    "plt.scatter(df[\"vehicle_accelerations_NTB_1\"], df[\"rear_right_tire_tire_centric_forces_2\"], label = \"Rear Left\")\n",
    "plt.title(\"Normal Force vs Lateral Accel\")\n",
    "plt.grid()\n",
    "plt.ylabel(\"Normal Force (N)\")\n",
    "plt.xlabel(\"Lateral Acceleration (m/s^2)\")\n",
    "plt.legend()"
   ]
  },
  {
   "cell_type": "code",
   "execution_count": null,
   "metadata": {},
   "outputs": [],
   "source": [
    "plt.scatter(df[\"vehicle_accelerations_NTB_1\"], df[\"front_left_tire_vehicle_centric_forces_1\"], label = \"Front Right\")\n",
    "plt.scatter(df[\"vehicle_accelerations_NTB_1\"], df[\"front_right_tire_vehicle_centric_forces_1\"], label = \"Front Left\")\n",
    "plt.scatter(df[\"vehicle_accelerations_NTB_1\"], df[\"rear_left_tire_vehicle_centric_forces_1\"], label = \"Rear Right\")\n",
    "plt.scatter(df[\"vehicle_accelerations_NTB_1\"], df[\"rear_right_tire_vehicle_centric_forces_1\"], label = \"Rear Left\")\n",
    "plt.title(\"Lateral Force vs Lateral Accel\")\n",
    "plt.grid()\n",
    "plt.ylabel(\"Lateral Force (N)\")\n",
    "plt.xlabel(\"Lateral Acceleration (m/s^2)\")\n",
    "plt.legend()"
   ]
  },
  {
   "cell_type": "code",
   "execution_count": null,
   "metadata": {},
   "outputs": [],
   "source": [
    "plt.scatter(df[\"vehicle_accelerations_NTB_1\"], df[\"front_left_tire_z_c\"], label = \"Front Right\")\n",
    "plt.scatter(df[\"vehicle_accelerations_NTB_1\"], df[\"front_right_tire_z_c\"], label = \"Front Left\")\n",
    "plt.scatter(df[\"vehicle_accelerations_NTB_1\"], df[\"rear_left_tire_z_c\"], label = \"Rear Right\")\n",
    "plt.scatter(df[\"vehicle_accelerations_NTB_1\"], df[\"rear_right_tire_z_c\"], label = \"Rear Left\")\n",
    "plt.title(\"Vertical Chassis Displacement vs Lateral Accel\")\n",
    "plt.grid()\n",
    "plt.ylabel(\"Vertical Chassis Displacement (m)\")\n",
    "plt.xlabel(\"Lateral Acceleration (m/s^2)\")\n",
    "plt.legend()"
   ]
  },
  {
   "cell_type": "code",
   "execution_count": null,
   "metadata": {},
   "outputs": [],
   "source": [
    "plt.scatter(df[\"vehicle_accelerations_NTB_1\"], df[\"front_left_tire_f_roll\"], label = \"Front Right\")\n",
    "plt.scatter(df[\"vehicle_accelerations_NTB_1\"], df[\"front_right_tire_f_roll\"], label = \"Front Left\")\n",
    "plt.scatter(df[\"vehicle_accelerations_NTB_1\"], df[\"rear_left_tire_f_roll\"], label = \"Rear Right\")\n",
    "plt.scatter(df[\"vehicle_accelerations_NTB_1\"], df[\"rear_right_tire_f_roll\"], label = \"Rear Left\")\n",
    "plt.title(\"Vertical Force vs Lateral Accel\")\n",
    "plt.grid()\n",
    "plt.ylabel(\"Vertical Force Roll (N)\")\n",
    "plt.xlabel(\"Lateral Acceleration (m/s^2)\")\n",
    "plt.legend()"
   ]
  },
  {
   "cell_type": "code",
   "execution_count": null,
   "metadata": {},
   "outputs": [],
   "source": [
    "plt.scatter(df[\"vehicle_accelerations_NTB_1\"], df[\"front_left_tire_f_heave\"], label = \"Front Right\")\n",
    "plt.scatter(df[\"vehicle_accelerations_NTB_1\"], df[\"front_right_tire_f_heave\"], label = \"Front Left\")\n",
    "plt.scatter(df[\"vehicle_accelerations_NTB_1\"], df[\"rear_left_tire_f_heave\"], label = \"Rear Right\")\n",
    "plt.scatter(df[\"vehicle_accelerations_NTB_1\"], df[\"rear_right_tire_f_heave\"], label = \"Rear Left\")\n",
    "plt.title(\"Vertical Force Ride vs Lateral Accel\")\n",
    "plt.grid()\n",
    "plt.ylabel(\"Vertical Force Ride (N)\")\n",
    "plt.xlabel(\"Lateral Acceleration (m/s^2)\")\n",
    "plt.legend()"
   ]
  },
  {
   "cell_type": "code",
   "execution_count": null,
   "metadata": {},
   "outputs": [],
   "source": [
    "plt.scatter(df[\"vehicle_accelerations_NTB_1\"], df[\"steered_angle\"])\n",
    "plt.title(\"Vertical Force Ride vs Lateral Accel\")\n",
    "plt.grid()\n",
    "plt.ylabel(\"Vertical Force Ride (N)\")\n",
    "plt.xlabel(\"Lateral Acceleration (m/s^2)\")\n",
    "plt.legend()"
   ]
  },
  {
   "cell_type": "code",
   "execution_count": null,
   "metadata": {},
   "outputs": [],
   "source": [
    "x=df[df[\"vehicle_accelerations_NTB_1\"] == df[\"vehicle_accelerations_NTB_1\"].max()].iloc[0]\n",
    "# for name, y in x.items():\n",
    "#     print(name + \": \" +str(y))\n",
    "# print(x[\"y_double_dot\"]/9.81)\n",
    "# print(x[\"yaw_acceleration\"])\n",
    "# print(x[\"front_left_f_roll\"])\n",
    "# print(x[\"front_right_f_heave\"]-x[\"front_left_f_heave\"])\n",
    "# print(x[\"rear_right_f_heave\"]-x[\"rear_left_f_heave\"])\n",
    "# print(x[\"roll\"]*180/math.pi)\n",
    "print(x[\"front_left_tire_vehicle_centric_forces_0\"])\n",
    "print(x[\"front_left_tire_vehicle_centric_forces_1\"])\n",
    "print(x[\"front_left_tire_vehicle_centric_forces_2\"])\n",
    "print(x[\"rear_left_tire_vehicle_centric_forces_0\"])\n",
    "print(x[\"rear_left_tire_vehicle_centric_forces_1\"])\n",
    "print(x[\"rear_left_tire_vehicle_centric_forces_2\"])\n",
    "# print(x[\"front_right_tire_centric_forces_2\"])\n",
    "# print(x[\"rear_left_tire_centric_forces_2\"])\n",
    "# print(x[\"rear_right_tire_centric_forces_2\"])\n",
    "# print(x[\"front_left_tire_centric_forces_2\"])\n",
    "# print(x[\"front_right_tire_centric_forces_2\"])\n",
    "# print(x[\"rear_left_tire_centric_forces_2\"])\n",
    "# print(x[\"rear_right_tire_centric_forces_2\"])"
   ]
  },
  {
   "cell_type": "code",
   "execution_count": null,
   "metadata": {},
   "outputs": [],
   "source": [
    "plt.plot(df[\"vehicle_accelerations_NTB_1\"], df[\"vehicle_accelerations_NTB_0\"], 'b')\n",
    "#plt.plot(df[\"y_double_dot\"], df[\"x_double_dot\"], 'r')"
   ]
  },
  {
   "cell_type": "code",
   "execution_count": null,
   "metadata": {},
   "outputs": [],
   "source": [
    "plt.plot(df[\"vehicle_accelerations_NTB_1\"],df[\"vehicle_yaw_rate\"]*180/math.pi)"
   ]
  },
  {
   "cell_type": "code",
   "execution_count": null,
   "metadata": {},
   "outputs": [],
   "source": [
    "temp_df = df[abs(df[\"vehicle_turn_radius\"]) < 50]\n",
    "plt.scatter(temp_df[\"vehicle_accelerations_NTB_1\"],temp_df[\"vehicle_turn_radius\"])"
   ]
  },
  {
   "cell_type": "code",
   "execution_count": null,
   "metadata": {},
   "outputs": [],
   "source": [
    "tires = [\"front_left\", \"front_right\", \"rear_left\", \"rear_right\"]\n",
    "df[\"total_lat_force\"] = df[\"front_left_tire_vehicle_centric_forces_1\"] + df[\"front_right_tire_vehicle_centric_forces_1\"] + df[\"rear_left_tire_vehicle_centric_forces_1\"] + df[\"rear_right_tire_vehicle_centric_forces_1\"]\n",
    "\n",
    "plt.scatter(df[\"vehicle_accelerations_NTB_1\"], df[\"total_lat_force\"])"
   ]
  }
 ],
 "metadata": {
  "interpreter": {
   "hash": "1c7372b68b18fb8a72b58483b4629b4128484b5e1196553fcb420dfc259b3afc"
  },
  "kernelspec": {
   "display_name": "Python 3",
   "language": "python",
   "name": "python3"
  },
  "language_info": {
   "codemirror_mode": {
    "name": "ipython",
    "version": 3
   },
   "file_extension": ".py",
   "mimetype": "text/x-python",
   "name": "python",
   "nbconvert_exporter": "python",
   "pygments_lexer": "ipython3",
   "version": "3.8.5"
  }
 },
 "nbformat": 4,
 "nbformat_minor": 1
}
