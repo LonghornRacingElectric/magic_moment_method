{
 "cells": [
  {
   "cell_type": "code",
   "execution_count": 28,
   "source": [
    "from scipy.optimize import broyden1 as solve\r\n",
    "import numpy as np\r\n",
    "from suspension import Suspension\r\n",
    "from vehicle import Vehicle\r\n",
    "from aerodynamics import Aerodynamics"
   ],
   "outputs": [],
   "metadata": {}
  },
  {
   "cell_type": "code",
   "execution_count": 49,
   "source": [
    "# parameters\r\n",
    "mass = 272\r\n",
    "sprung_inertia = np.array([[1, 1, 1], [1, 1, 1], [1, 1, 1]])\r\n",
    "unsprung_inertia = np.array([[1, 1, 1], [1, 1, 1], [1, 1, 1]])\r\n",
    "\r\n",
    "# sweep\r\n",
    "rotational_velocities = np.array([0, 0, 1])\r\n",
    "translation_velocities = np.array([1, 1, 0])"
   ],
   "outputs": [],
   "metadata": {}
  },
  {
   "cell_type": "code",
   "execution_count": 30,
   "source": [
    "def car_loads(translation_accelerations, rotational_accelerations, roll, pitch, heave):\r\n",
    "    # aero loads is roll/heave/pitch dependent\r\n",
    "    # tire loads is aero force dependent\r\n",
    "    # force/moment is aero & tire load dependent\r\n",
    "    return translation_accelerations"
   ],
   "outputs": [],
   "metadata": {}
  },
  {
   "cell_type": "code",
   "execution_count": 56,
   "source": [
    "def DOF6_motion_residuals(x, vehicle):\r\n",
    "    x_double_dot, y_double_dot, yaw_acceleration, roll, pitch, ride_height = x\r\n",
    "    translation_accelerations = np.array([x_double_dot, y_double_dot, 0])\r\n",
    "    rotational_accelerations = np.array([0, 0, yaw_acceleration])\r\n",
    "\r\n",
    "    forces, moments = vehicle.get_loads(x_double_dot, y_double_dot, yaw_acceleration, roll, pitch, ride_height)\r\n",
    "    residuals_translation = mass * (translation_accelerations + np.cross(rotational_velocities, translation_velocities)) - forces\r\n",
    "    residuals_translation[2] = 0 # TODO: REMOVEEE\r\n",
    "    residuals_rotation = [0, 0, 0]\r\n",
    "    #residuals_rotation = sprung_inertia.dot(rotational_accelerations) + np.cross(rotational_velocities, sprung_inertia.dot(rotational_velocities)) -\\\r\n",
    "    #    + unsprung_inertia.dot(rotational_accelerations) - moments\r\n",
    "    return np.array([*residuals_translation, *residuals_rotation])"
   ],
   "outputs": [],
   "metadata": {}
  },
  {
   "cell_type": "code",
   "execution_count": 32,
   "source": [
    "#translation_accelerations, rotational_accelerations = [1, 1, 1], [1, 1, 1]\r\n",
    "# x = [translation_accelerations, rotational_accelerations]\r\n",
    "\r\n",
    "#     specific_residual_func = lambda x: DOF6_motion_residuals(x, body_slip, steered_angle, velocity, yaw_rate)\r\n",
    "#     solve(specific_residual_func, x, verbose=True)"
   ],
   "outputs": [],
   "metadata": {}
  },
  {
   "cell_type": "code",
   "execution_count": 57,
   "source": [
    "# x_double_dot, y_double_dot, yaw_acceleration, roll, pitch, ride_height\r\n",
    "x = [0, 0, 0, 0, 0, 0]\r\n",
    "\r\n",
    "suspension = Suspension()\r\n",
    "aero = Aerodynamics()\r\n",
    "vehicle = Vehicle(suspension, aero)\r\n",
    "\r\n",
    "vehicle.state.body_slip = 0\r\n",
    "vehicle.state.steered_angle = 0\r\n",
    "vehicle.state.x_dot = 30\r\n",
    "vehicle.state.yaw_rate = 0\r\n",
    "\r\n",
    "specific_residual_func = lambda x: DOF6_motion_residuals(x, vehicle)\r\n",
    "solve(specific_residual_func, x)"
   ],
   "outputs": [
    {
     "output_type": "execute_result",
     "data": {
      "text/plain": [
       "array([-2.06430147, -1.        ,  0.        ,  0.        ,  0.        ,\n",
       "        0.        ])"
      ]
     },
     "metadata": {},
     "execution_count": 57
    }
   ],
   "metadata": {}
  }
 ],
 "metadata": {
  "orig_nbformat": 4,
  "language_info": {
   "name": "python",
   "version": "3.7.4",
   "mimetype": "text/x-python",
   "codemirror_mode": {
    "name": "ipython",
    "version": 3
   },
   "pygments_lexer": "ipython3",
   "nbconvert_exporter": "python",
   "file_extension": ".py"
  },
  "kernelspec": {
   "name": "python3",
   "display_name": "Python 3.7.4 64-bit"
  },
  "interpreter": {
   "hash": "7aab9084ceaadec9751c46267bb0962ae9717eebe939ec4dca00e63ab65e0fb6"
  }
 },
 "nbformat": 4,
 "nbformat_minor": 2
}