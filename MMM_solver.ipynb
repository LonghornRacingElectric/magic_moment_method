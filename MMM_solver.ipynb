{
 "cells": [
  {
   "cell_type": "code",
   "execution_count": 1,
   "source": [
    "from scipy.optimize import broyden1 as broyden2\r\n",
    "import numpy as np\r\n",
    "from suspension import Suspension\r\n",
    "from vehicle import Vehicle\r\n",
    "from aerodynamics import Aerodynamics"
   ],
   "outputs": [],
   "metadata": {}
  },
  {
   "cell_type": "code",
   "execution_count": 2,
   "source": [
    "def DOF6_motion_residuals(x, vehicle):\r\n",
    "    # solving for these bois\r\n",
    "    x_double_dot, y_double_dot, yaw_acceleration, roll, pitch, ride_height = x\r\n",
    "    translation_accelerations = np.array([x_double_dot, y_double_dot, 0])\r\n",
    "    rotational_accelerations = np.array([0, 0, yaw_acceleration])\r\n",
    "\r\n",
    "    # magical mushroom states\r\n",
    "    translation_velocities = vehicle.translational_velocities\r\n",
    "    rotational_velocities = vehicle.rotational_velocities\r\n",
    "\r\n",
    "    # vehicle loads\r\n",
    "    forces, torques = vehicle.get_loads(roll, pitch, ride_height)\r\n",
    "\r\n",
    "    # residuals\r\n",
    "    residuals_translation = vehicle.mass * (translation_accelerations +\\\r\n",
    "        np.cross(rotational_velocities, translation_velocities)) - forces\r\n",
    "\r\n",
    "    residuals_rotation = np.dot(vehicle.sprung_inertia, rotational_accelerations) +\\\r\n",
    "        np.cross(rotational_velocities, np.dot(vehicle.sprung_inertia, rotational_velocities)) -\\\r\n",
    "        + np.dot(vehicle.unsprung_inertia, rotational_accelerations) - torques\r\n",
    "\r\n",
    "    # TODO: REMOVEEE\r\n",
    "    residuals_translation[2] = 0\r\n",
    "    residuals_rotation = [0, 0, 0]\r\n",
    "\r\n",
    "    return np.array([*residuals_translation, *residuals_rotation])"
   ],
   "outputs": [],
   "metadata": {}
  },
  {
   "cell_type": "code",
   "execution_count": 3,
   "source": [
    "# x = x_double_dot, y_double_dot, yaw_acceleration, roll, pitch, ride_height\r\n",
    "x = [0, 0, 0, 0, 0, 0]\r\n",
    "\r\n",
    "suspension = Suspension()\r\n",
    "aero = Aerodynamics()\r\n",
    "vehicle = Vehicle(suspension, aero)\r\n",
    "\r\n",
    "# sweep parameters\r\n",
    "vehicle.state.body_slip = 0\r\n",
    "vehicle.state.steered_angle = 0\r\n",
    "vehicle.state.x_dot = 30\r\n",
    "vehicle.state.yaw_rate = 0\r\n",
    "\r\n",
    "specific_residual_func = lambda x: DOF6_motion_residuals(x, vehicle)\r\n",
    "broyden2(specific_residual_func, x)"
   ],
   "outputs": [
    {
     "output_type": "execute_result",
     "data": {
      "text/plain": [
       "array([-3.06430147,  0.        ,  0.        ,  0.        ,  0.        ,\n",
       "        0.        ])"
      ]
     },
     "metadata": {},
     "execution_count": 3
    }
   ],
   "metadata": {}
  }
 ],
 "metadata": {
  "orig_nbformat": 4,
  "language_info": {
   "name": "python",
   "version": "3.7.4",
   "mimetype": "text/x-python",
   "codemirror_mode": {
    "name": "ipython",
    "version": 3
   },
   "pygments_lexer": "ipython3",
   "nbconvert_exporter": "python",
   "file_extension": ".py"
  },
  "kernelspec": {
   "name": "python3",
   "display_name": "Python 3.7.4 64-bit"
  },
  "interpreter": {
   "hash": "7aab9084ceaadec9751c46267bb0962ae9717eebe939ec4dca00e63ab65e0fb6"
  }
 },
 "nbformat": 4,
 "nbformat_minor": 2
}