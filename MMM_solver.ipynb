{
 "cells": [
  {
   "cell_type": "code",
   "execution_count": 1,
   "source": [
    "from scipy.optimize import broyden1\n",
    "import numpy as np\n",
    "from suspension import Suspension\n",
    "from vehicle import Vehicle\n",
    "from aerodynamics import Aerodynamics"
   ],
   "outputs": [],
   "metadata": {}
  },
  {
   "cell_type": "code",
   "execution_count": 2,
   "source": [
    "def DOF6_motion_residuals(x, vehicle):\r\n",
    "    # solving for these bois\r\n",
    "    x_double_dot, y_double_dot, yaw_acceleration, roll, pitch, ride_height = x\r\n",
    "    translation_accelerations = np.array([x_double_dot, y_double_dot, 0])\r\n",
    "    rotational_accelerations = np.array([0, 0, yaw_acceleration])\r\n",
    "\r\n",
    "    # magical mushroom states\r\n",
    "    translation_velocities = vehicle.translational_velocities\r\n",
    "    rotational_velocities = vehicle.rotational_velocities\r\n",
    "\r\n",
    "    # vehicle loads\r\n",
    "    forces, torques = vehicle.get_loads(roll, pitch, ride_height)\r\n",
    "\r\n",
    "    # residuals\r\n",
    "    residuals_translation = vehicle.mass * (translation_accelerations +\\\r\n",
    "        np.cross(rotational_velocities, translation_velocities)) - forces\r\n",
    "\r\n",
    "    residuals_rotation = np.dot(vehicle.sprung_inertia, rotational_accelerations) +\\\r\n",
    "        np.cross(rotational_velocities, np.dot(vehicle.sprung_inertia, rotational_velocities)) -\\\r\n",
    "        + np.dot(vehicle.unsprung_inertia, rotational_accelerations) - torques\r\n",
    "\r\n",
    "    # TODO: REMOVEEE\r\n",
    "    # residuals_translation[2] = 0\r\n",
    "    # residuals_rotation = [0, 0, 0]\r\n",
    "\r\n",
    "    return np.array([*residuals_translation, *residuals_rotation])"
   ],
   "outputs": [],
   "metadata": {}
  },
  {
   "cell_type": "code",
   "execution_count": 3,
   "source": [
    "# x = x_double_dot, y_double_dot, yaw_acceleration, roll, pitch, ride_height\r\n",
    "x = [0, 0, 0, 0, 0, 0]\r\n",
    "\r\n",
    "suspension = Suspension()\r\n",
    "aero = Aerodynamics()\r\n",
    "vehicle = Vehicle(suspension, aero)\r\n",
    "\r\n",
    "# sweep parameters\r\n",
    "vehicle.state.body_slip = 0\r\n",
    "vehicle.state.steered_angle = 0\r\n",
    "vehicle.state.x_dot = 10\r\n",
    "vehicle.state.yaw_rate = 0\r\n",
    "\r\n",
    "specific_residual_func = lambda x: DOF6_motion_residuals(x, vehicle)\r\n",
    "josie_solver(specific_residual_func, x)"
   ],
   "outputs": [
    {
     "output_type": "stream",
     "name": "stderr",
     "text": [
      "C:\\Users\\Kieran\\AppData\\Local\\Programs\\Python\\Python37\\lib\\site-packages\\scipy\\optimize\\nonlin.py:999: RuntimeWarning: invalid value encountered in true_divide\n",
      "  d = v / vdot(df, v)\n"
     ]
    },
    {
     "output_type": "error",
     "ename": "NoConvergence",
     "evalue": "[1.14250654e+000 0.00000000e+000 4.00517678e+154 0.00000000e+000\n 1.88051825e+000 0.00000000e+000]",
     "traceback": [
      "\u001b[1;31m---------------------------------------------------------------------------\u001b[0m",
      "\u001b[1;31mNoConvergence\u001b[0m                             Traceback (most recent call last)",
      "\u001b[1;32m<ipython-input-3-3abba4d8cbde>\u001b[0m in \u001b[0;36m<module>\u001b[1;34m\u001b[0m\n\u001b[0;32m     13\u001b[0m \u001b[1;33m\u001b[0m\u001b[0m\n\u001b[0;32m     14\u001b[0m \u001b[0mspecific_residual_func\u001b[0m \u001b[1;33m=\u001b[0m \u001b[1;32mlambda\u001b[0m \u001b[0mx\u001b[0m\u001b[1;33m:\u001b[0m \u001b[0mDOF6_motion_residuals\u001b[0m\u001b[1;33m(\u001b[0m\u001b[0mx\u001b[0m\u001b[1;33m,\u001b[0m \u001b[0mvehicle\u001b[0m\u001b[1;33m)\u001b[0m\u001b[1;33m\u001b[0m\u001b[1;33m\u001b[0m\u001b[0m\n\u001b[1;32m---> 15\u001b[1;33m \u001b[0mjosie_solver\u001b[0m\u001b[1;33m(\u001b[0m\u001b[0mspecific_residual_func\u001b[0m\u001b[1;33m,\u001b[0m \u001b[0mx\u001b[0m\u001b[1;33m)\u001b[0m\u001b[1;33m\u001b[0m\u001b[1;33m\u001b[0m\u001b[0m\n\u001b[0m",
      "\u001b[1;32m~\\AppData\\Local\\Programs\\Python\\Python37\\lib\\site-packages\\scipy\\optimize\\nonlin.py\u001b[0m in \u001b[0;36mbroyden1\u001b[1;34m(F, xin, iter, alpha, reduction_method, max_rank, verbose, maxiter, f_tol, f_rtol, x_tol, x_rtol, tol_norm, line_search, callback, **kw)\u001b[0m\n",
      "\u001b[1;32m~\\AppData\\Local\\Programs\\Python\\Python37\\lib\\site-packages\\scipy\\optimize\\nonlin.py\u001b[0m in \u001b[0;36mnonlin_solve\u001b[1;34m(F, x0, jacobian, iter, verbose, maxiter, f_tol, f_rtol, x_tol, x_rtol, tol_norm, line_search, callback, full_output, raise_exception)\u001b[0m\n\u001b[0;32m    348\u001b[0m     \u001b[1;32melse\u001b[0m\u001b[1;33m:\u001b[0m\u001b[1;33m\u001b[0m\u001b[1;33m\u001b[0m\u001b[0m\n\u001b[0;32m    349\u001b[0m         \u001b[1;32mif\u001b[0m \u001b[0mraise_exception\u001b[0m\u001b[1;33m:\u001b[0m\u001b[1;33m\u001b[0m\u001b[1;33m\u001b[0m\u001b[0m\n\u001b[1;32m--> 350\u001b[1;33m             \u001b[1;32mraise\u001b[0m \u001b[0mNoConvergence\u001b[0m\u001b[1;33m(\u001b[0m\u001b[0m_array_like\u001b[0m\u001b[1;33m(\u001b[0m\u001b[0mx\u001b[0m\u001b[1;33m,\u001b[0m \u001b[0mx0\u001b[0m\u001b[1;33m)\u001b[0m\u001b[1;33m)\u001b[0m\u001b[1;33m\u001b[0m\u001b[1;33m\u001b[0m\u001b[0m\n\u001b[0m\u001b[0;32m    351\u001b[0m         \u001b[1;32melse\u001b[0m\u001b[1;33m:\u001b[0m\u001b[1;33m\u001b[0m\u001b[1;33m\u001b[0m\u001b[0m\n\u001b[0;32m    352\u001b[0m             \u001b[0mstatus\u001b[0m \u001b[1;33m=\u001b[0m \u001b[1;36m2\u001b[0m\u001b[1;33m\u001b[0m\u001b[1;33m\u001b[0m\u001b[0m\n",
      "\u001b[1;31mNoConvergence\u001b[0m: [1.14250654e+000 0.00000000e+000 4.00517678e+154 0.00000000e+000\n 1.88051825e+000 0.00000000e+000]"
     ]
    }
   ],
   "metadata": {
    "pycharm": {
     "name": "#%%\n"
    }
   }
  }
 ],
 "metadata": {
  "orig_nbformat": 4,
  "language_info": {
   "name": "python",
   "version": "3.7.4",
   "mimetype": "text/x-python",
   "codemirror_mode": {
    "name": "ipython",
    "version": 3
   },
   "pygments_lexer": "ipython3",
   "nbconvert_exporter": "python",
   "file_extension": ".py"
  },
  "kernelspec": {
   "name": "pycharm-8e47cde8",
   "language": "python",
   "display_name": "PyCharm (magic_moment_method)"
  },
  "interpreter": {
   "hash": "7aab9084ceaadec9751c46267bb0962ae9717eebe939ec4dca00e63ab65e0fb6"
  }
 },
 "nbformat": 4,
 "nbformat_minor": 2
}