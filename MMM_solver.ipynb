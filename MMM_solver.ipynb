{
 "cells": [
  {
   "cell_type": "code",
   "execution_count": 8,
   "source": [
    "from scipy.optimize import broyden1\n",
    "import numpy as np\n",
    "from suspension import Suspension\n",
    "from vehicle import Vehicle\n",
    "from aerodynamics import Aerodynamics"
   ],
   "outputs": [],
   "metadata": {}
  },
  {
   "cell_type": "code",
   "execution_count": 9,
   "source": [
    "def DOF6_motion_residuals(x, vehicle):\n",
    "    # solving for these bois\n",
    "    x_double_dot, y_double_dot, yaw_acceleration, roll, pitch, ride_height = x\n",
    "    translation_accelerations = np.array([x_double_dot, y_double_dot, 0])\n",
    "    rotational_accelerations = np.array([0, 0, yaw_acceleration])\n",
    "\n",
    "    # magical mushroom states\n",
    "    translation_velocities = vehicle.translational_velocities\n",
    "    rotational_velocities = vehicle.rotational_velocities\n",
    "\n",
    "    # vehicle loads\n",
    "    forces, torques = vehicle.get_loads(roll, pitch, ride_height)\n",
    "\n",
    "    # residuals\n",
    "    residuals_translation = vehicle.mass * (translation_accelerations +\\\n",
    "        np.cross(rotational_velocities, translation_velocities)) - forces\n",
    "\n",
    "    residuals_rotation = np.dot(vehicle.sprung_inertia, rotational_accelerations) +\\\n",
    "        np.cross(rotational_velocities, np.dot(vehicle.sprung_inertia, rotational_velocities)) -\\\n",
    "        + np.dot(vehicle.unsprung_inertia, rotational_accelerations) - torques\n",
    "\n",
    "    # TODO: REMOVEEE\n",
    "    residuals_translation[2] = 0\n",
    "    residuals_rotation = [0, 0, 0]\n",
    "\n",
    "    return np.array([*residuals_translation, *residuals_rotation])"
   ],
   "outputs": [],
   "metadata": {}
  },
  {
   "cell_type": "code",
   "execution_count": 36,
   "source": [
    "# x = x_double_dot, y_double_dot, yaw_acceleration, roll, pitch, ride_height\n",
    "x = [0, 0, 0, 0, 0, 0]\n",
    "\n",
    "suspension = Suspension()\n",
    "aero = Aerodynamics()\n",
    "vehicle = Vehicle(suspension, aero)\n",
    "\n",
    "# sweep parameters\n",
    "vehicle.state.body_slip = 0\n",
    "vehicle.state.steered_angle = 0\n",
    "vehicle.state.x_dot = 10\n",
    "vehicle.state.yaw_rate = 0\n",
    "\n",
    "specific_residual_func = lambda x: DOF6_motion_residuals(x, vehicle)\n",
    "broyden1(specific_residual_func, x)"
   ],
   "outputs": [
    {
     "data": {
      "text/plain": "array([-0.34047794,  0.        ,  0.        ,  0.        ,  0.        ,\n        0.        ])"
     },
     "execution_count": 36,
     "metadata": {},
     "output_type": "execute_result"
    }
   ],
   "metadata": {
    "pycharm": {
     "name": "#%%\n"
    }
   }
  },
  {
   "cell_type": "code",
   "execution_count": null,
   "outputs": [],
   "source": [],
   "metadata": {
    "collapsed": false,
    "pycharm": {
     "name": "#%%\n"
    }
   }
  }
 ],
 "metadata": {
  "orig_nbformat": 4,
  "language_info": {
   "name": "python",
   "version": "3.7.4",
   "mimetype": "text/x-python",
   "codemirror_mode": {
    "name": "ipython",
    "version": 3
   },
   "pygments_lexer": "ipython3",
   "nbconvert_exporter": "python",
   "file_extension": ".py"
  },
  "kernelspec": {
   "name": "pycharm-8e47cde8",
   "language": "python",
   "display_name": "PyCharm (magic_moment_method)"
  },
  "interpreter": {
   "hash": "7aab9084ceaadec9751c46267bb0962ae9717eebe939ec4dca00e63ab65e0fb6"
  }
 },
 "nbformat": 4,
 "nbformat_minor": 2
}