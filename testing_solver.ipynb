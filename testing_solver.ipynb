{
 "cells": [
  {
   "cell_type": "code",
   "execution_count": 127,
   "source": [
    "from scipy.optimize import broyden2 as solve\r\n",
    "import numpy as np"
   ],
   "outputs": [],
   "metadata": {}
  },
  {
   "cell_type": "code",
   "execution_count": 128,
   "source": [
    "# parameters\r\n",
    "mass = 1\r\n",
    "sprung_inertia = np.array([[1, 1, 1], [1, 1, 1], [1, 1, 1]])\r\n",
    "unsprung_inertia = np.array([[1, 1, 1], [1, 1, 1], [1, 1, 1]])\r\n",
    "\r\n",
    "# sweep\r\n",
    "rotational_velocities = np.array([0, 0, 1])\r\n",
    "translation_velocities = np.array([1, 1, 0])"
   ],
   "outputs": [],
   "metadata": {}
  },
  {
   "cell_type": "code",
   "execution_count": 129,
   "source": [
    "def car_loads(translation_accelerations, rotational_accelerations, roll, pitch, heave):\r\n",
    "    # aero loads is roll/heave/pitch dependent\r\n",
    "    # tire loads is aero force dependent\r\n",
    "    # force/moment is aero & tire load dependent\r\n",
    "    return translation_accelerations"
   ],
   "outputs": [],
   "metadata": {}
  },
  {
   "cell_type": "code",
   "execution_count": 131,
   "source": [
    "def DOF6_motion_residuals(x, body_slip, steered_angle, velocity, yaw_rate):\r\n",
    "    x_double_dot, y_double_dot, yaw_acceleration, roll, pitch, heave = x\r\n",
    "    translation_accelerations = [x_double_dot, y_double_dot, 0]\r\n",
    "    rotational_accelerations = [0, 0, yaw_acceleration]\r\n",
    "\r\n",
    "    forces, moments = car_loads(translation_accelerations, rotational_accelerations, roll, pitch, heave)\r\n",
    "\r\n",
    "    residuals_translation = mass * (translation_accelerations + np.cross(rotational_velocities, translation_velocities)) - \\\r\n",
    "        forces\r\n",
    "\r\n",
    "    residuals_rotation = sprung_inertia.dot(rotational_accelerations) + np.cross(rotational_velocities, sprung_inertia.dot(rotational_velocities)) -\\\r\n",
    "        + unsprung_inertia.dot(rotational_accelerations) - moments\r\n",
    "    return np.array([*residuals_translation, *residuals_rotation])\r\n"
   ],
   "outputs": [],
   "metadata": {}
  },
  {
   "cell_type": "code",
   "execution_count": 132,
   "source": [
    "translation_accelerations, rotational_accelerations = [1, 1, 1], [1, 1, 1]\r\n",
    "x = [translation_accelerations, rotational_accelerations]\r\n",
    "\r\n",
    "for x in steered_angles:\r\n",
    "    \r\n",
    "    specific_residual_func = lambda x: DOF6_motion_residuals(x, body_slip, steered_angle, velocity, yaw_rate)\r\n",
    "    solve(specific_residual_func, x, verbose=True)"
   ],
   "outputs": [
    {
     "output_type": "stream",
     "name": "stdout",
     "text": [
      "0:  |F(x)| = 1.07418; step 1\n",
      "1:  |F(x)| = 1; step 1\n",
      "2:  |F(x)| = 1; step 1\n",
      "3:  |F(x)| = 1; step 1\n",
      "4:  |F(x)| = 1; step 1\n",
      "5:  |F(x)| = 1; step 1\n",
      "6:  |F(x)| = 1; step 1\n",
      "7:  |F(x)| = 1; step 1\n",
      "8:  |F(x)| = 1; step 1\n",
      "9:  |F(x)| = 0.195729; step 1\n",
      "10:  |F(x)| = 0.0503342; step 1\n",
      "11:  |F(x)| = 0.00572985; step 1\n",
      "12:  |F(x)| = 4.1943e-05; step 1\n",
      "13:  |F(x)| = 1.44312e-07; step 1\n"
     ]
    },
    {
     "output_type": "execute_result",
     "data": {
      "text/plain": [
       "array([[ 2.69588771e+16, -2.69588771e+16,  1.00000000e+00],\n",
       "       [-1.00000014e+00,  9.99999947e-01, -1.06241901e-07]])"
      ]
     },
     "metadata": {},
     "execution_count": 132
    }
   ],
   "metadata": {}
  },
  {
   "cell_type": "code",
   "execution_count": null,
   "source": [
    "translation_accelerations, rotational_accelerations = [1, 1, 1], [1, 1, 1]\r\n",
    "x = [translation_accelerations, rotational_accelerations]\r\n",
    "\r\n",
    "suspension = Suspension()\r\n",
    "aero = Aero()\r\n",
    "vehicle = Vehicle(suspension, aero)\r\n",
    "\r\n",
    "\r\n",
    "for y in body_slips:\r\n",
    "    for x in steered_angles:\r\n",
    "        vehicle.state.body_slip = y\r\n",
    "        vehicle.state.steered_angle = x\r\n",
    "\r\n",
    "        specific_residual_func = lambda x: DOF6_motion_residuals(x, vehicle)\r\n",
    "        solve(specific_residual_func, x, verbose=True)"
   ],
   "outputs": [],
   "metadata": {}
  }
 ],
 "metadata": {
  "orig_nbformat": 4,
  "language_info": {
   "name": "python",
   "version": "3.7.4",
   "mimetype": "text/x-python",
   "codemirror_mode": {
    "name": "ipython",
    "version": 3
   },
   "pygments_lexer": "ipython3",
   "nbconvert_exporter": "python",
   "file_extension": ".py"
  },
  "kernelspec": {
   "name": "python3",
   "display_name": "Python 3.7.4 64-bit"
  },
  "interpreter": {
   "hash": "7aab9084ceaadec9751c46267bb0962ae9717eebe939ec4dca00e63ab65e0fb6"
  }
 },
 "nbformat": 4,
 "nbformat_minor": 2
}